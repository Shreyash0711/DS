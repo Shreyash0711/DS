{
  "cells": [
    {
      "cell_type": "markdown",
      "id": "e4d2a580",
      "metadata": {
        "id": "e4d2a580"
      },
      "source": [
        "###  Project 2 : Exploratory Data Analysis : Superstore Dataset"
      ]
    },
    {
      "cell_type": "code",
      "execution_count": null,
      "id": "4080efbd",
      "metadata": {
        "id": "4080efbd"
      },
      "outputs": [],
      "source": [
        "# Import Libraries\n",
        "\n",
        "import numpy as np\n",
        "import pandas as pd\n",
        "\n",
        "import matplotlib.pyplot as plt\n",
        "import seaborn as sns"
      ]
    },
    {
      "cell_type": "code",
      "execution_count": null,
      "id": "6344cd0a",
      "metadata": {
        "id": "6344cd0a"
      },
      "outputs": [],
      "source": [
        "# Read Data\n",
        "\n",
        "df = pd.read_csv('Superstore.csv',  encoding='windows-1252')"
      ]
    },
    {
      "cell_type": "code",
      "execution_count": null,
      "id": "c1616b2b",
      "metadata": {
        "id": "c1616b2b",
        "outputId": "2adfaadd-b0af-44e8-bb5f-bf94d3e1684c"
      },
      "outputs": [
        {
          "data": {
            "text/plain": [
              "(9994, 21)"
            ]
          },
          "execution_count": 3,
          "metadata": {},
          "output_type": "execute_result"
        }
      ],
      "source": [
        "df.shape"
      ]
    },
    {
      "cell_type": "code",
      "execution_count": null,
      "id": "84b5ef96",
      "metadata": {
        "id": "84b5ef96"
      },
      "outputs": [],
      "source": [
        "# 1. Display total Rows and columns.\n",
        "# 2. Check Dataset\n",
        "# 3. Display Column Names.\n",
        "# 4. Identify Datatypes of all features.\n",
        "# 5. Check info() of data."
      ]
    },
    {
      "cell_type": "code",
      "execution_count": null,
      "id": "fb876242",
      "metadata": {
        "id": "fb876242",
        "outputId": "83638e9e-1354-4390-bc88-22cf3e441094"
      },
      "outputs": [
        {
          "data": {
            "text/plain": [
              "(9994, 21)"
            ]
          },
          "execution_count": 5,
          "metadata": {},
          "output_type": "execute_result"
        }
      ],
      "source": [
        "# 1. Display total Rows and columns.\n",
        "\n",
        "df.shape"
      ]
    },
    {
      "cell_type": "code",
      "execution_count": null,
      "id": "1c12018b",
      "metadata": {
        "id": "1c12018b",
        "outputId": "d0a17e1d-1539-4fe2-c184-772ad65983ba"
      },
      "outputs": [
        {
          "data": {
            "text/html": [
              "<div>\n",
              "<style scoped>\n",
              "    .dataframe tbody tr th:only-of-type {\n",
              "        vertical-align: middle;\n",
              "    }\n",
              "\n",
              "    .dataframe tbody tr th {\n",
              "        vertical-align: top;\n",
              "    }\n",
              "\n",
              "    .dataframe thead th {\n",
              "        text-align: right;\n",
              "    }\n",
              "</style>\n",
              "<table border=\"1\" class=\"dataframe\">\n",
              "  <thead>\n",
              "    <tr style=\"text-align: right;\">\n",
              "      <th></th>\n",
              "      <th>Row ID</th>\n",
              "      <th>Order ID</th>\n",
              "      <th>Order Date</th>\n",
              "      <th>Ship Date</th>\n",
              "      <th>Ship Mode</th>\n",
              "      <th>Customer ID</th>\n",
              "      <th>Customer Name</th>\n",
              "      <th>Segment</th>\n",
              "      <th>Country</th>\n",
              "      <th>City</th>\n",
              "      <th>...</th>\n",
              "      <th>Postal Code</th>\n",
              "      <th>Region</th>\n",
              "      <th>Product ID</th>\n",
              "      <th>Category</th>\n",
              "      <th>Sub-Category</th>\n",
              "      <th>Product Name</th>\n",
              "      <th>Sales</th>\n",
              "      <th>Quantity</th>\n",
              "      <th>Discount</th>\n",
              "      <th>Profit</th>\n",
              "    </tr>\n",
              "  </thead>\n",
              "  <tbody>\n",
              "    <tr>\n",
              "      <th>0</th>\n",
              "      <td>1</td>\n",
              "      <td>CA-2016-152156</td>\n",
              "      <td>11/8/2016</td>\n",
              "      <td>11/11/2016</td>\n",
              "      <td>Second Class</td>\n",
              "      <td>CG-12520</td>\n",
              "      <td>Claire Gute</td>\n",
              "      <td>Consumer</td>\n",
              "      <td>United States</td>\n",
              "      <td>Henderson</td>\n",
              "      <td>...</td>\n",
              "      <td>42420</td>\n",
              "      <td>South</td>\n",
              "      <td>FUR-BO-10001798</td>\n",
              "      <td>Furniture</td>\n",
              "      <td>Bookcases</td>\n",
              "      <td>Bush Somerset Collection Bookcase</td>\n",
              "      <td>261.9600</td>\n",
              "      <td>2</td>\n",
              "      <td>0.00</td>\n",
              "      <td>41.9136</td>\n",
              "    </tr>\n",
              "    <tr>\n",
              "      <th>1</th>\n",
              "      <td>2</td>\n",
              "      <td>CA-2016-152156</td>\n",
              "      <td>11/8/2016</td>\n",
              "      <td>11/11/2016</td>\n",
              "      <td>Second Class</td>\n",
              "      <td>CG-12520</td>\n",
              "      <td>Claire Gute</td>\n",
              "      <td>Consumer</td>\n",
              "      <td>United States</td>\n",
              "      <td>Henderson</td>\n",
              "      <td>...</td>\n",
              "      <td>42420</td>\n",
              "      <td>South</td>\n",
              "      <td>FUR-CH-10000454</td>\n",
              "      <td>Furniture</td>\n",
              "      <td>Chairs</td>\n",
              "      <td>Hon Deluxe Fabric Upholstered Stacking Chairs,...</td>\n",
              "      <td>731.9400</td>\n",
              "      <td>3</td>\n",
              "      <td>0.00</td>\n",
              "      <td>219.5820</td>\n",
              "    </tr>\n",
              "    <tr>\n",
              "      <th>2</th>\n",
              "      <td>3</td>\n",
              "      <td>CA-2016-138688</td>\n",
              "      <td>6/12/2016</td>\n",
              "      <td>6/16/2016</td>\n",
              "      <td>Second Class</td>\n",
              "      <td>DV-13045</td>\n",
              "      <td>Darrin Van Huff</td>\n",
              "      <td>Corporate</td>\n",
              "      <td>United States</td>\n",
              "      <td>Los Angeles</td>\n",
              "      <td>...</td>\n",
              "      <td>90036</td>\n",
              "      <td>West</td>\n",
              "      <td>OFF-LA-10000240</td>\n",
              "      <td>Office Supplies</td>\n",
              "      <td>Labels</td>\n",
              "      <td>Self-Adhesive Address Labels for Typewriters b...</td>\n",
              "      <td>14.6200</td>\n",
              "      <td>2</td>\n",
              "      <td>0.00</td>\n",
              "      <td>6.8714</td>\n",
              "    </tr>\n",
              "    <tr>\n",
              "      <th>3</th>\n",
              "      <td>4</td>\n",
              "      <td>US-2015-108966</td>\n",
              "      <td>10/11/2015</td>\n",
              "      <td>10/18/2015</td>\n",
              "      <td>Standard Class</td>\n",
              "      <td>SO-20335</td>\n",
              "      <td>Sean O'Donnell</td>\n",
              "      <td>Consumer</td>\n",
              "      <td>United States</td>\n",
              "      <td>Fort Lauderdale</td>\n",
              "      <td>...</td>\n",
              "      <td>33311</td>\n",
              "      <td>South</td>\n",
              "      <td>FUR-TA-10000577</td>\n",
              "      <td>Furniture</td>\n",
              "      <td>Tables</td>\n",
              "      <td>Bretford CR4500 Series Slim Rectangular Table</td>\n",
              "      <td>957.5775</td>\n",
              "      <td>5</td>\n",
              "      <td>0.45</td>\n",
              "      <td>-383.0310</td>\n",
              "    </tr>\n",
              "    <tr>\n",
              "      <th>4</th>\n",
              "      <td>5</td>\n",
              "      <td>US-2015-108966</td>\n",
              "      <td>10/11/2015</td>\n",
              "      <td>10/18/2015</td>\n",
              "      <td>Standard Class</td>\n",
              "      <td>SO-20335</td>\n",
              "      <td>Sean O'Donnell</td>\n",
              "      <td>Consumer</td>\n",
              "      <td>United States</td>\n",
              "      <td>Fort Lauderdale</td>\n",
              "      <td>...</td>\n",
              "      <td>33311</td>\n",
              "      <td>South</td>\n",
              "      <td>OFF-ST-10000760</td>\n",
              "      <td>Office Supplies</td>\n",
              "      <td>Storage</td>\n",
              "      <td>Eldon Fold 'N Roll Cart System</td>\n",
              "      <td>22.3680</td>\n",
              "      <td>2</td>\n",
              "      <td>0.20</td>\n",
              "      <td>2.5164</td>\n",
              "    </tr>\n",
              "    <tr>\n",
              "      <th>...</th>\n",
              "      <td>...</td>\n",
              "      <td>...</td>\n",
              "      <td>...</td>\n",
              "      <td>...</td>\n",
              "      <td>...</td>\n",
              "      <td>...</td>\n",
              "      <td>...</td>\n",
              "      <td>...</td>\n",
              "      <td>...</td>\n",
              "      <td>...</td>\n",
              "      <td>...</td>\n",
              "      <td>...</td>\n",
              "      <td>...</td>\n",
              "      <td>...</td>\n",
              "      <td>...</td>\n",
              "      <td>...</td>\n",
              "      <td>...</td>\n",
              "      <td>...</td>\n",
              "      <td>...</td>\n",
              "      <td>...</td>\n",
              "      <td>...</td>\n",
              "    </tr>\n",
              "    <tr>\n",
              "      <th>9989</th>\n",
              "      <td>9990</td>\n",
              "      <td>CA-2014-110422</td>\n",
              "      <td>1/21/2014</td>\n",
              "      <td>1/23/2014</td>\n",
              "      <td>Second Class</td>\n",
              "      <td>TB-21400</td>\n",
              "      <td>Tom Boeckenhauer</td>\n",
              "      <td>Consumer</td>\n",
              "      <td>United States</td>\n",
              "      <td>Miami</td>\n",
              "      <td>...</td>\n",
              "      <td>33180</td>\n",
              "      <td>South</td>\n",
              "      <td>FUR-FU-10001889</td>\n",
              "      <td>Furniture</td>\n",
              "      <td>Furnishings</td>\n",
              "      <td>Ultra Door Pull Handle</td>\n",
              "      <td>25.2480</td>\n",
              "      <td>3</td>\n",
              "      <td>0.20</td>\n",
              "      <td>4.1028</td>\n",
              "    </tr>\n",
              "    <tr>\n",
              "      <th>9990</th>\n",
              "      <td>9991</td>\n",
              "      <td>CA-2017-121258</td>\n",
              "      <td>2/26/2017</td>\n",
              "      <td>3/3/2017</td>\n",
              "      <td>Standard Class</td>\n",
              "      <td>DB-13060</td>\n",
              "      <td>Dave Brooks</td>\n",
              "      <td>Consumer</td>\n",
              "      <td>United States</td>\n",
              "      <td>Costa Mesa</td>\n",
              "      <td>...</td>\n",
              "      <td>92627</td>\n",
              "      <td>West</td>\n",
              "      <td>FUR-FU-10000747</td>\n",
              "      <td>Furniture</td>\n",
              "      <td>Furnishings</td>\n",
              "      <td>Tenex B1-RE Series Chair Mats for Low Pile Car...</td>\n",
              "      <td>91.9600</td>\n",
              "      <td>2</td>\n",
              "      <td>0.00</td>\n",
              "      <td>15.6332</td>\n",
              "    </tr>\n",
              "    <tr>\n",
              "      <th>9991</th>\n",
              "      <td>9992</td>\n",
              "      <td>CA-2017-121258</td>\n",
              "      <td>2/26/2017</td>\n",
              "      <td>3/3/2017</td>\n",
              "      <td>Standard Class</td>\n",
              "      <td>DB-13060</td>\n",
              "      <td>Dave Brooks</td>\n",
              "      <td>Consumer</td>\n",
              "      <td>United States</td>\n",
              "      <td>Costa Mesa</td>\n",
              "      <td>...</td>\n",
              "      <td>92627</td>\n",
              "      <td>West</td>\n",
              "      <td>TEC-PH-10003645</td>\n",
              "      <td>Technology</td>\n",
              "      <td>Phones</td>\n",
              "      <td>Aastra 57i VoIP phone</td>\n",
              "      <td>258.5760</td>\n",
              "      <td>2</td>\n",
              "      <td>0.20</td>\n",
              "      <td>19.3932</td>\n",
              "    </tr>\n",
              "    <tr>\n",
              "      <th>9992</th>\n",
              "      <td>9993</td>\n",
              "      <td>CA-2017-121258</td>\n",
              "      <td>2/26/2017</td>\n",
              "      <td>3/3/2017</td>\n",
              "      <td>Standard Class</td>\n",
              "      <td>DB-13060</td>\n",
              "      <td>Dave Brooks</td>\n",
              "      <td>Consumer</td>\n",
              "      <td>United States</td>\n",
              "      <td>Costa Mesa</td>\n",
              "      <td>...</td>\n",
              "      <td>92627</td>\n",
              "      <td>West</td>\n",
              "      <td>OFF-PA-10004041</td>\n",
              "      <td>Office Supplies</td>\n",
              "      <td>Paper</td>\n",
              "      <td>It's Hot Message Books with Stickers, 2 3/4\" x 5\"</td>\n",
              "      <td>29.6000</td>\n",
              "      <td>4</td>\n",
              "      <td>0.00</td>\n",
              "      <td>13.3200</td>\n",
              "    </tr>\n",
              "    <tr>\n",
              "      <th>9993</th>\n",
              "      <td>9994</td>\n",
              "      <td>CA-2017-119914</td>\n",
              "      <td>5/4/2017</td>\n",
              "      <td>5/9/2017</td>\n",
              "      <td>Second Class</td>\n",
              "      <td>CC-12220</td>\n",
              "      <td>Chris Cortes</td>\n",
              "      <td>Consumer</td>\n",
              "      <td>United States</td>\n",
              "      <td>Westminster</td>\n",
              "      <td>...</td>\n",
              "      <td>92683</td>\n",
              "      <td>West</td>\n",
              "      <td>OFF-AP-10002684</td>\n",
              "      <td>Office Supplies</td>\n",
              "      <td>Appliances</td>\n",
              "      <td>Acco 7-Outlet Masterpiece Power Center, Wihtou...</td>\n",
              "      <td>243.1600</td>\n",
              "      <td>2</td>\n",
              "      <td>0.00</td>\n",
              "      <td>72.9480</td>\n",
              "    </tr>\n",
              "  </tbody>\n",
              "</table>\n",
              "<p>9994 rows × 21 columns</p>\n",
              "</div>"
            ],
            "text/plain": [
              "      Row ID        Order ID  Order Date   Ship Date       Ship Mode  \\\n",
              "0          1  CA-2016-152156   11/8/2016  11/11/2016    Second Class   \n",
              "1          2  CA-2016-152156   11/8/2016  11/11/2016    Second Class   \n",
              "2          3  CA-2016-138688   6/12/2016   6/16/2016    Second Class   \n",
              "3          4  US-2015-108966  10/11/2015  10/18/2015  Standard Class   \n",
              "4          5  US-2015-108966  10/11/2015  10/18/2015  Standard Class   \n",
              "...      ...             ...         ...         ...             ...   \n",
              "9989    9990  CA-2014-110422   1/21/2014   1/23/2014    Second Class   \n",
              "9990    9991  CA-2017-121258   2/26/2017    3/3/2017  Standard Class   \n",
              "9991    9992  CA-2017-121258   2/26/2017    3/3/2017  Standard Class   \n",
              "9992    9993  CA-2017-121258   2/26/2017    3/3/2017  Standard Class   \n",
              "9993    9994  CA-2017-119914    5/4/2017    5/9/2017    Second Class   \n",
              "\n",
              "     Customer ID     Customer Name    Segment        Country             City  \\\n",
              "0       CG-12520       Claire Gute   Consumer  United States        Henderson   \n",
              "1       CG-12520       Claire Gute   Consumer  United States        Henderson   \n",
              "2       DV-13045   Darrin Van Huff  Corporate  United States      Los Angeles   \n",
              "3       SO-20335    Sean O'Donnell   Consumer  United States  Fort Lauderdale   \n",
              "4       SO-20335    Sean O'Donnell   Consumer  United States  Fort Lauderdale   \n",
              "...          ...               ...        ...            ...              ...   \n",
              "9989    TB-21400  Tom Boeckenhauer   Consumer  United States            Miami   \n",
              "9990    DB-13060       Dave Brooks   Consumer  United States       Costa Mesa   \n",
              "9991    DB-13060       Dave Brooks   Consumer  United States       Costa Mesa   \n",
              "9992    DB-13060       Dave Brooks   Consumer  United States       Costa Mesa   \n",
              "9993    CC-12220      Chris Cortes   Consumer  United States      Westminster   \n",
              "\n",
              "      ... Postal Code  Region       Product ID         Category Sub-Category  \\\n",
              "0     ...       42420   South  FUR-BO-10001798        Furniture    Bookcases   \n",
              "1     ...       42420   South  FUR-CH-10000454        Furniture       Chairs   \n",
              "2     ...       90036    West  OFF-LA-10000240  Office Supplies       Labels   \n",
              "3     ...       33311   South  FUR-TA-10000577        Furniture       Tables   \n",
              "4     ...       33311   South  OFF-ST-10000760  Office Supplies      Storage   \n",
              "...   ...         ...     ...              ...              ...          ...   \n",
              "9989  ...       33180   South  FUR-FU-10001889        Furniture  Furnishings   \n",
              "9990  ...       92627    West  FUR-FU-10000747        Furniture  Furnishings   \n",
              "9991  ...       92627    West  TEC-PH-10003645       Technology       Phones   \n",
              "9992  ...       92627    West  OFF-PA-10004041  Office Supplies        Paper   \n",
              "9993  ...       92683    West  OFF-AP-10002684  Office Supplies   Appliances   \n",
              "\n",
              "                                           Product Name     Sales  Quantity  \\\n",
              "0                     Bush Somerset Collection Bookcase  261.9600         2   \n",
              "1     Hon Deluxe Fabric Upholstered Stacking Chairs,...  731.9400         3   \n",
              "2     Self-Adhesive Address Labels for Typewriters b...   14.6200         2   \n",
              "3         Bretford CR4500 Series Slim Rectangular Table  957.5775         5   \n",
              "4                        Eldon Fold 'N Roll Cart System   22.3680         2   \n",
              "...                                                 ...       ...       ...   \n",
              "9989                             Ultra Door Pull Handle   25.2480         3   \n",
              "9990  Tenex B1-RE Series Chair Mats for Low Pile Car...   91.9600         2   \n",
              "9991                              Aastra 57i VoIP phone  258.5760         2   \n",
              "9992  It's Hot Message Books with Stickers, 2 3/4\" x 5\"   29.6000         4   \n",
              "9993  Acco 7-Outlet Masterpiece Power Center, Wihtou...  243.1600         2   \n",
              "\n",
              "      Discount    Profit  \n",
              "0         0.00   41.9136  \n",
              "1         0.00  219.5820  \n",
              "2         0.00    6.8714  \n",
              "3         0.45 -383.0310  \n",
              "4         0.20    2.5164  \n",
              "...        ...       ...  \n",
              "9989      0.20    4.1028  \n",
              "9990      0.00   15.6332  \n",
              "9991      0.20   19.3932  \n",
              "9992      0.00   13.3200  \n",
              "9993      0.00   72.9480  \n",
              "\n",
              "[9994 rows x 21 columns]"
            ]
          },
          "execution_count": 6,
          "metadata": {},
          "output_type": "execute_result"
        }
      ],
      "source": [
        "# 2. Check Dataset\n",
        "\n",
        "df"
      ]
    },
    {
      "cell_type": "code",
      "execution_count": null,
      "id": "c6674b85",
      "metadata": {
        "id": "c6674b85",
        "outputId": "1bcc5f52-41f7-4599-aaee-c31f45a29cdc"
      },
      "outputs": [
        {
          "data": {
            "text/plain": [
              "Index(['Row ID', 'Order ID', 'Order Date', 'Ship Date', 'Ship Mode',\n",
              "       'Customer ID', 'Customer Name', 'Segment', 'Country', 'City', 'State',\n",
              "       'Postal Code', 'Region', 'Product ID', 'Category', 'Sub-Category',\n",
              "       'Product Name', 'Sales', 'Quantity', 'Discount', 'Profit'],\n",
              "      dtype='object')"
            ]
          },
          "execution_count": 7,
          "metadata": {},
          "output_type": "execute_result"
        }
      ],
      "source": [
        "# 3. Display Column Names.\n",
        "\n",
        "df.columns"
      ]
    },
    {
      "cell_type": "code",
      "execution_count": null,
      "id": "08a515c4",
      "metadata": {
        "id": "08a515c4",
        "outputId": "68ac6f67-9f59-4233-ffee-c62e9e87d66f"
      },
      "outputs": [
        {
          "data": {
            "text/plain": [
              "Row ID             int64\n",
              "Order ID          object\n",
              "Order Date        object\n",
              "Ship Date         object\n",
              "Ship Mode         object\n",
              "Customer ID       object\n",
              "Customer Name     object\n",
              "Segment           object\n",
              "Country           object\n",
              "City              object\n",
              "State             object\n",
              "Postal Code        int64\n",
              "Region            object\n",
              "Product ID        object\n",
              "Category          object\n",
              "Sub-Category      object\n",
              "Product Name      object\n",
              "Sales            float64\n",
              "Quantity           int64\n",
              "Discount         float64\n",
              "Profit           float64\n",
              "dtype: object"
            ]
          },
          "execution_count": 8,
          "metadata": {},
          "output_type": "execute_result"
        }
      ],
      "source": [
        "# 4. Identify Datatypes of all features.\n",
        "\n",
        "df.dtypes"
      ]
    },
    {
      "cell_type": "code",
      "execution_count": null,
      "id": "2149e900",
      "metadata": {
        "id": "2149e900",
        "outputId": "1115f568-39df-4c3c-d89a-ff9d644a4a6c"
      },
      "outputs": [
        {
          "name": "stdout",
          "output_type": "stream",
          "text": [
            "<class 'pandas.core.frame.DataFrame'>\n",
            "RangeIndex: 9994 entries, 0 to 9993\n",
            "Data columns (total 21 columns):\n",
            " #   Column         Non-Null Count  Dtype  \n",
            "---  ------         --------------  -----  \n",
            " 0   Row ID         9994 non-null   int64  \n",
            " 1   Order ID       9994 non-null   object \n",
            " 2   Order Date     9994 non-null   object \n",
            " 3   Ship Date      9994 non-null   object \n",
            " 4   Ship Mode      9994 non-null   object \n",
            " 5   Customer ID    9994 non-null   object \n",
            " 6   Customer Name  9994 non-null   object \n",
            " 7   Segment        9994 non-null   object \n",
            " 8   Country        9994 non-null   object \n",
            " 9   City           9994 non-null   object \n",
            " 10  State          9994 non-null   object \n",
            " 11  Postal Code    9994 non-null   int64  \n",
            " 12  Region         9994 non-null   object \n",
            " 13  Product ID     9994 non-null   object \n",
            " 14  Category       9994 non-null   object \n",
            " 15  Sub-Category   9994 non-null   object \n",
            " 16  Product Name   9994 non-null   object \n",
            " 17  Sales          9994 non-null   float64\n",
            " 18  Quantity       9994 non-null   int64  \n",
            " 19  Discount       9994 non-null   float64\n",
            " 20  Profit         9994 non-null   float64\n",
            "dtypes: float64(3), int64(3), object(15)\n",
            "memory usage: 1.6+ MB\n"
          ]
        }
      ],
      "source": [
        "# 5. Check info() of data.\n",
        "\n",
        "df.info()"
      ]
    },
    {
      "cell_type": "code",
      "execution_count": null,
      "id": "94d33690",
      "metadata": {
        "id": "94d33690",
        "outputId": "e1d3d273-e1c0-4b56-bbac-01aae691c7dd"
      },
      "outputs": [
        {
          "data": {
            "text/plain": [
              "{1, 2, 3, 4}"
            ]
          },
          "execution_count": 10,
          "metadata": {},
          "output_type": "execute_result"
        }
      ],
      "source": [
        "# 6. Identify Number Unique values in each feature.\n",
        "\n",
        "l1 = [1,2,3,2,3,2,1,3,4,3,2,1,2,3,4,1]\n",
        "\n",
        "set(l1)"
      ]
    },
    {
      "cell_type": "code",
      "execution_count": null,
      "id": "f6e6bc7b",
      "metadata": {
        "id": "f6e6bc7b",
        "outputId": "7245f50f-b2cc-4a14-c73a-1a1a81eceb3b"
      },
      "outputs": [
        {
          "data": {
            "text/plain": [
              "({'Central', 'East', 'South', 'West'}, 4)"
            ]
          },
          "execution_count": 11,
          "metadata": {},
          "output_type": "execute_result"
        }
      ],
      "source": [
        "set(df['Region']), len(set(df['Region']))"
      ]
    },
    {
      "cell_type": "code",
      "execution_count": null,
      "id": "bfbd5d14",
      "metadata": {
        "id": "bfbd5d14",
        "outputId": "9a1e3dd7-8dbd-405d-9b65-17b75f22c1fc"
      },
      "outputs": [
        {
          "data": {
            "text/plain": [
              "Row ID           9994\n",
              "Order ID         5009\n",
              "Order Date       1237\n",
              "Ship Date        1334\n",
              "Ship Mode           4\n",
              "Customer ID       793\n",
              "Customer Name     793\n",
              "Segment             3\n",
              "Country             1\n",
              "City              531\n",
              "State              49\n",
              "Postal Code       631\n",
              "Region              4\n",
              "Product ID       1862\n",
              "Category            3\n",
              "Sub-Category       17\n",
              "Product Name     1850\n",
              "Sales            5825\n",
              "Quantity           14\n",
              "Discount           12\n",
              "Profit           7287\n",
              "dtype: int64"
            ]
          },
          "execution_count": 12,
          "metadata": {},
          "output_type": "execute_result"
        }
      ],
      "source": [
        "df.nunique()"
      ]
    },
    {
      "cell_type": "code",
      "execution_count": null,
      "id": "b963f6e3",
      "metadata": {
        "id": "b963f6e3"
      },
      "outputs": [],
      "source": [
        "# Identify categorical Features.      [ Threshold = 50  ]\n",
        "\n",
        "cat = ['Ship Mode', 'Segment', 'Country', 'State', 'Region', 'Category',  'Sub-Category']"
      ]
    },
    {
      "cell_type": "code",
      "execution_count": null,
      "id": "5d46cb2a",
      "metadata": {
        "id": "5d46cb2a"
      },
      "outputs": [],
      "source": [
        "# Display unique classes from each categorical feature.     unique()"
      ]
    },
    {
      "cell_type": "code",
      "execution_count": null,
      "id": "18f1b5e5",
      "metadata": {
        "id": "18f1b5e5",
        "outputId": "d893acab-6129-46ca-d923-43c9ffc53201"
      },
      "outputs": [
        {
          "data": {
            "text/plain": [
              "array(['Second Class', 'Standard Class', 'First Class', 'Same Day'],\n",
              "      dtype=object)"
            ]
          },
          "execution_count": 15,
          "metadata": {},
          "output_type": "execute_result"
        }
      ],
      "source": [
        "# 1. 'Ship Mode'\n",
        "\n",
        "df['Ship Mode'].unique()"
      ]
    },
    {
      "cell_type": "code",
      "execution_count": null,
      "id": "6948a218",
      "metadata": {
        "id": "6948a218",
        "outputId": "2aeb1050-4946-4480-fbe7-2704b6714c45"
      },
      "outputs": [
        {
          "data": {
            "text/plain": [
              "array(['Consumer', 'Corporate', 'Home Office'], dtype=object)"
            ]
          },
          "execution_count": 16,
          "metadata": {},
          "output_type": "execute_result"
        }
      ],
      "source": [
        "# 2.  'Segment'\n",
        "\n",
        "df[ 'Segment'].unique()"
      ]
    },
    {
      "cell_type": "code",
      "execution_count": null,
      "id": "5e3e77cd",
      "metadata": {
        "id": "5e3e77cd",
        "outputId": "405fcf7e-3c1e-4231-f438-1262156b1d9a"
      },
      "outputs": [
        {
          "data": {
            "text/plain": [
              "array(['Kentucky', 'California', 'Florida', 'North Carolina',\n",
              "       'Washington', 'Texas', 'Wisconsin', 'Utah', 'Nebraska',\n",
              "       'Pennsylvania', 'Illinois', 'Minnesota', 'Michigan', 'Delaware',\n",
              "       'Indiana', 'New York', 'Arizona', 'Virginia', 'Tennessee',\n",
              "       'Alabama', 'South Carolina', 'Oregon', 'Colorado', 'Iowa', 'Ohio',\n",
              "       'Missouri', 'Oklahoma', 'New Mexico', 'Louisiana', 'Connecticut',\n",
              "       'New Jersey', 'Massachusetts', 'Georgia', 'Nevada', 'Rhode Island',\n",
              "       'Mississippi', 'Arkansas', 'Montana', 'New Hampshire', 'Maryland',\n",
              "       'District of Columbia', 'Kansas', 'Vermont', 'Maine',\n",
              "       'South Dakota', 'Idaho', 'North Dakota', 'Wyoming',\n",
              "       'West Virginia'], dtype=object)"
            ]
          },
          "execution_count": 17,
          "metadata": {},
          "output_type": "execute_result"
        }
      ],
      "source": [
        "# 3. 'State'\n",
        "\n",
        "df['State'].unique()"
      ]
    },
    {
      "cell_type": "code",
      "execution_count": null,
      "id": "8daa080e",
      "metadata": {
        "id": "8daa080e",
        "outputId": "ae6d61e6-3285-461a-8e87-155223f4bbfa"
      },
      "outputs": [
        {
          "data": {
            "text/plain": [
              "array(['South', 'West', 'Central', 'East'], dtype=object)"
            ]
          },
          "execution_count": 18,
          "metadata": {},
          "output_type": "execute_result"
        }
      ],
      "source": [
        "# 4. 'Region'\n",
        "\n",
        "df['Region'].unique()"
      ]
    },
    {
      "cell_type": "code",
      "execution_count": null,
      "id": "1405b5b5",
      "metadata": {
        "id": "1405b5b5",
        "outputId": "b5387544-c539-4625-d651-71a932944ef0"
      },
      "outputs": [
        {
          "data": {
            "text/plain": [
              "array(['Furniture', 'Office Supplies', 'Technology'], dtype=object)"
            ]
          },
          "execution_count": 19,
          "metadata": {},
          "output_type": "execute_result"
        }
      ],
      "source": [
        "# 5.  'Category'\n",
        "\n",
        "df['Category'].unique()"
      ]
    },
    {
      "cell_type": "code",
      "execution_count": null,
      "id": "f1aed818",
      "metadata": {
        "id": "f1aed818",
        "outputId": "89761edd-04be-4995-d606-7f58bf664ce7"
      },
      "outputs": [
        {
          "data": {
            "text/plain": [
              "array(['Bookcases', 'Chairs', 'Labels', 'Tables', 'Storage',\n",
              "       'Furnishings', 'Art', 'Phones', 'Binders', 'Appliances', 'Paper',\n",
              "       'Accessories', 'Envelopes', 'Fasteners', 'Supplies', 'Machines',\n",
              "       'Copiers'], dtype=object)"
            ]
          },
          "execution_count": 20,
          "metadata": {},
          "output_type": "execute_result"
        }
      ],
      "source": [
        "# 6. 'Sub-Category'\n",
        "\n",
        "df['Sub-Category'].unique()"
      ]
    },
    {
      "cell_type": "code",
      "execution_count": null,
      "id": "df827688",
      "metadata": {
        "id": "df827688",
        "outputId": "3aea791d-0b66-4824-973a-b3a48894782b"
      },
      "outputs": [
        {
          "name": "stdout",
          "output_type": "stream",
          "text": [
            "Ship Mode\n",
            "['Second Class' 'Standard Class' 'First Class' 'Same Day']\n",
            " ---------------------------------------- \n",
            "Segment\n",
            "['Consumer' 'Corporate' 'Home Office']\n",
            " ---------------------------------------- \n",
            "Country\n",
            "['United States']\n",
            " ---------------------------------------- \n",
            "State\n",
            "['Kentucky' 'California' 'Florida' 'North Carolina' 'Washington' 'Texas'\n",
            " 'Wisconsin' 'Utah' 'Nebraska' 'Pennsylvania' 'Illinois' 'Minnesota'\n",
            " 'Michigan' 'Delaware' 'Indiana' 'New York' 'Arizona' 'Virginia'\n",
            " 'Tennessee' 'Alabama' 'South Carolina' 'Oregon' 'Colorado' 'Iowa' 'Ohio'\n",
            " 'Missouri' 'Oklahoma' 'New Mexico' 'Louisiana' 'Connecticut' 'New Jersey'\n",
            " 'Massachusetts' 'Georgia' 'Nevada' 'Rhode Island' 'Mississippi'\n",
            " 'Arkansas' 'Montana' 'New Hampshire' 'Maryland' 'District of Columbia'\n",
            " 'Kansas' 'Vermont' 'Maine' 'South Dakota' 'Idaho' 'North Dakota'\n",
            " 'Wyoming' 'West Virginia']\n",
            " ---------------------------------------- \n",
            "Region\n",
            "['South' 'West' 'Central' 'East']\n",
            " ---------------------------------------- \n",
            "Category\n",
            "['Furniture' 'Office Supplies' 'Technology']\n",
            " ---------------------------------------- \n",
            "Sub-Category\n",
            "['Bookcases' 'Chairs' 'Labels' 'Tables' 'Storage' 'Furnishings' 'Art'\n",
            " 'Phones' 'Binders' 'Appliances' 'Paper' 'Accessories' 'Envelopes'\n",
            " 'Fasteners' 'Supplies' 'Machines' 'Copiers']\n",
            " ---------------------------------------- \n"
          ]
        }
      ],
      "source": [
        "for i in cat :\n",
        "    print(i)\n",
        "    print(df[i].unique())\n",
        "    print(\" ---------------------------------------- \")"
      ]
    },
    {
      "cell_type": "code",
      "execution_count": null,
      "id": "e84590f1",
      "metadata": {
        "id": "e84590f1",
        "outputId": "632a3970-7834-4ac0-da64-d3ba527e4c99"
      },
      "outputs": [
        {
          "data": {
            "text/html": [
              "<div>\n",
              "<style scoped>\n",
              "    .dataframe tbody tr th:only-of-type {\n",
              "        vertical-align: middle;\n",
              "    }\n",
              "\n",
              "    .dataframe tbody tr th {\n",
              "        vertical-align: top;\n",
              "    }\n",
              "\n",
              "    .dataframe thead th {\n",
              "        text-align: right;\n",
              "    }\n",
              "</style>\n",
              "<table border=\"1\" class=\"dataframe\">\n",
              "  <thead>\n",
              "    <tr style=\"text-align: right;\">\n",
              "      <th></th>\n",
              "      <th>Row ID</th>\n",
              "      <th>Postal Code</th>\n",
              "      <th>Sales</th>\n",
              "      <th>Quantity</th>\n",
              "      <th>Discount</th>\n",
              "      <th>Profit</th>\n",
              "    </tr>\n",
              "  </thead>\n",
              "  <tbody>\n",
              "    <tr>\n",
              "      <th>count</th>\n",
              "      <td>9994.00</td>\n",
              "      <td>9994.00</td>\n",
              "      <td>9994.00</td>\n",
              "      <td>9994.00</td>\n",
              "      <td>9994.00</td>\n",
              "      <td>9994.00</td>\n",
              "    </tr>\n",
              "    <tr>\n",
              "      <th>mean</th>\n",
              "      <td>4997.50</td>\n",
              "      <td>55190.38</td>\n",
              "      <td>229.86</td>\n",
              "      <td>3.79</td>\n",
              "      <td>0.16</td>\n",
              "      <td>28.66</td>\n",
              "    </tr>\n",
              "    <tr>\n",
              "      <th>std</th>\n",
              "      <td>2885.16</td>\n",
              "      <td>32063.69</td>\n",
              "      <td>623.25</td>\n",
              "      <td>2.23</td>\n",
              "      <td>0.21</td>\n",
              "      <td>234.26</td>\n",
              "    </tr>\n",
              "    <tr>\n",
              "      <th>min</th>\n",
              "      <td>1.00</td>\n",
              "      <td>1040.00</td>\n",
              "      <td>0.44</td>\n",
              "      <td>1.00</td>\n",
              "      <td>0.00</td>\n",
              "      <td>-6599.98</td>\n",
              "    </tr>\n",
              "    <tr>\n",
              "      <th>25%</th>\n",
              "      <td>2499.25</td>\n",
              "      <td>23223.00</td>\n",
              "      <td>17.28</td>\n",
              "      <td>2.00</td>\n",
              "      <td>0.00</td>\n",
              "      <td>1.73</td>\n",
              "    </tr>\n",
              "    <tr>\n",
              "      <th>50%</th>\n",
              "      <td>4997.50</td>\n",
              "      <td>56430.50</td>\n",
              "      <td>54.49</td>\n",
              "      <td>3.00</td>\n",
              "      <td>0.20</td>\n",
              "      <td>8.67</td>\n",
              "    </tr>\n",
              "    <tr>\n",
              "      <th>75%</th>\n",
              "      <td>7495.75</td>\n",
              "      <td>90008.00</td>\n",
              "      <td>209.94</td>\n",
              "      <td>5.00</td>\n",
              "      <td>0.20</td>\n",
              "      <td>29.36</td>\n",
              "    </tr>\n",
              "    <tr>\n",
              "      <th>max</th>\n",
              "      <td>9994.00</td>\n",
              "      <td>99301.00</td>\n",
              "      <td>22638.48</td>\n",
              "      <td>14.00</td>\n",
              "      <td>0.80</td>\n",
              "      <td>8399.98</td>\n",
              "    </tr>\n",
              "  </tbody>\n",
              "</table>\n",
              "</div>"
            ],
            "text/plain": [
              "        Row ID  Postal Code     Sales  Quantity  Discount   Profit\n",
              "count  9994.00      9994.00   9994.00   9994.00   9994.00  9994.00\n",
              "mean   4997.50     55190.38    229.86      3.79      0.16    28.66\n",
              "std    2885.16     32063.69    623.25      2.23      0.21   234.26\n",
              "min       1.00      1040.00      0.44      1.00      0.00 -6599.98\n",
              "25%    2499.25     23223.00     17.28      2.00      0.00     1.73\n",
              "50%    4997.50     56430.50     54.49      3.00      0.20     8.67\n",
              "75%    7495.75     90008.00    209.94      5.00      0.20    29.36\n",
              "max    9994.00     99301.00  22638.48     14.00      0.80  8399.98"
            ]
          },
          "execution_count": 21,
          "metadata": {},
          "output_type": "execute_result"
        }
      ],
      "source": [
        "# 7. Describe numerical features.\n",
        "\n",
        "df.describe().round(2)"
      ]
    },
    {
      "cell_type": "code",
      "execution_count": null,
      "id": "250939c5",
      "metadata": {
        "id": "250939c5"
      },
      "outputs": [],
      "source": [
        "l1 = [ 5,4,3, 5,9, 99,99 ]"
      ]
    },
    {
      "cell_type": "code",
      "execution_count": null,
      "id": "dfae1a98",
      "metadata": {
        "id": "dfae1a98",
        "outputId": "f68c65a3-dbcd-49f0-b1af-23588e9ae007"
      },
      "outputs": [
        {
          "data": {
            "text/plain": [
              "32.0"
            ]
          },
          "execution_count": 39,
          "metadata": {},
          "output_type": "execute_result"
        }
      ],
      "source": [
        "np.mean(l1)"
      ]
    },
    {
      "cell_type": "code",
      "execution_count": null,
      "id": "43e966a6",
      "metadata": {
        "id": "43e966a6"
      },
      "outputs": [],
      "source": [
        "# Central Tendancies : Mean, Median, Mode"
      ]
    },
    {
      "cell_type": "code",
      "execution_count": null,
      "id": "67773bfe",
      "metadata": {
        "id": "67773bfe",
        "outputId": "b22ddef0-36e0-4890-a3a9-b9e9cd19cdd0"
      },
      "outputs": [
        {
          "data": {
            "text/plain": [
              "5.0"
            ]
          },
          "execution_count": 41,
          "metadata": {},
          "output_type": "execute_result"
        }
      ],
      "source": [
        "np.median(l1)"
      ]
    },
    {
      "cell_type": "code",
      "execution_count": null,
      "id": "98825c33",
      "metadata": {
        "id": "98825c33"
      },
      "outputs": [],
      "source": [
        "l1.sort()"
      ]
    },
    {
      "cell_type": "code",
      "execution_count": null,
      "id": "2d46f25a",
      "metadata": {
        "id": "2d46f25a",
        "outputId": "c2d6994a-6b2d-4300-a204-ca660150bd7c"
      },
      "outputs": [
        {
          "data": {
            "text/plain": [
              "[3, 4, 5, 5, 9, 99, 99]"
            ]
          },
          "execution_count": 43,
          "metadata": {},
          "output_type": "execute_result"
        }
      ],
      "source": [
        "l1"
      ]
    },
    {
      "cell_type": "code",
      "execution_count": null,
      "id": "18e52635",
      "metadata": {
        "id": "18e52635"
      },
      "outputs": [],
      "source": [
        "# Range :"
      ]
    },
    {
      "cell_type": "code",
      "execution_count": null,
      "id": "57329f99",
      "metadata": {
        "id": "57329f99"
      },
      "outputs": [],
      "source": [
        "# Dispersion :"
      ]
    },
    {
      "cell_type": "code",
      "execution_count": null,
      "id": "e435fdbf",
      "metadata": {
        "id": "e435fdbf"
      },
      "outputs": [],
      "source": [
        "# 1. Variance\n",
        "# 2. Standard Deviation"
      ]
    },
    {
      "cell_type": "code",
      "execution_count": null,
      "id": "fa3f0659",
      "metadata": {
        "id": "fa3f0659",
        "outputId": "4f099578-1039-42ab-83c4-5e440b31c7f7"
      },
      "outputs": [
        {
          "name": "stdout",
          "output_type": "stream",
          "text": [
            "Mean :  5.42\n",
            "Median :  5.0\n",
            "Standard Deviation:  2.26\n"
          ]
        }
      ],
      "source": [
        "l1 = [1, 2,3,5,6,7,4,5,7,8,9,10,3,5,6,5,7,4,6]\n",
        "\n",
        "print(\"Mean : \", np.mean(l1).round(2))\n",
        "print(\"Median : \", np.median(l1).round(2))\n",
        "print(\"Standard Deviation: \", np.std(l1).round(2))"
      ]
    },
    {
      "cell_type": "code",
      "execution_count": null,
      "id": "1fae7a2d",
      "metadata": {
        "id": "1fae7a2d",
        "outputId": "df3218d4-158d-4463-e2b9-f9e7288d2808"
      },
      "outputs": [
        {
          "data": {
            "text/plain": [
              "(3.16, 7.68)"
            ]
          },
          "execution_count": 52,
          "metadata": {},
          "output_type": "execute_result"
        }
      ],
      "source": [
        "(5.42 - 2.26)  , (5.42 + 2.26)"
      ]
    },
    {
      "cell_type": "code",
      "execution_count": null,
      "id": "530ffa38",
      "metadata": {
        "id": "530ffa38"
      },
      "outputs": [],
      "source": [
        "l1.sort()"
      ]
    },
    {
      "cell_type": "code",
      "execution_count": null,
      "id": "010b9c6a",
      "metadata": {
        "id": "010b9c6a",
        "outputId": "729e66ef-fc98-426b-f335-9c23bc4d78b8"
      },
      "outputs": [
        {
          "data": {
            "text/plain": [
              "19"
            ]
          },
          "execution_count": 55,
          "metadata": {},
          "output_type": "execute_result"
        }
      ],
      "source": [
        "len(l1)"
      ]
    },
    {
      "cell_type": "code",
      "execution_count": null,
      "id": "72990978",
      "metadata": {
        "id": "72990978",
        "outputId": "4c9e9efd-7a6c-4775-aef3-a7d6f3346361"
      },
      "outputs": [
        {
          "data": {
            "text/plain": [
              "[1, 2, 3, 3, 4, 4, 5, 5, 5, 5, 6, 6, 6, 7, 7, 7, 8, 9, 10]"
            ]
          },
          "execution_count": 56,
          "metadata": {},
          "output_type": "execute_result"
        }
      ],
      "source": [
        "1, 2, 3, 3,     4,      4, 5, 5, 5,  |        5, 6, 6, 6,    7,     7, 7, 8, 9\n",
        "\n",
        "              Q1=4                 Q2=5                     Q3=7"
      ]
    },
    {
      "cell_type": "code",
      "execution_count": null,
      "id": "19802891",
      "metadata": {
        "id": "19802891",
        "outputId": "4fd3b859-2d8e-47c0-8358-91fb3e162d2d"
      },
      "outputs": [
        {
          "data": {
            "text/plain": [
              "[1, 2, 3, 3, 4, 4, 5, 5, 5, 5, 6, 6, 6, 7, 7, 7, 8, 9, 10]"
            ]
          },
          "execution_count": 57,
          "metadata": {},
          "output_type": "execute_result"
        }
      ],
      "source": [
        "l1"
      ]
    },
    {
      "cell_type": "code",
      "execution_count": null,
      "id": "f336872e",
      "metadata": {
        "id": "f336872e"
      },
      "outputs": [],
      "source": [
        "1, 2, 3, 3, 4, 4, 5, 5, 5, 5, 6, 6, 6, 7, 7, 7, 8, 9,    |   10, 10\n",
        "\n",
        "#                                                       90th= 9.5"
      ]
    },
    {
      "cell_type": "code",
      "execution_count": null,
      "id": "9d9a0fe5",
      "metadata": {
        "id": "9d9a0fe5",
        "outputId": "bd2e1e61-7011-4df2-f354-dbb172550f19"
      },
      "outputs": [
        {
          "name": "stdout",
          "output_type": "stream",
          "text": [
            "['Ship Mode', 'Segment', 'Country', 'State', 'Region', 'Category', 'Sub-Category']\n"
          ]
        }
      ],
      "source": [
        "print(cat)"
      ]
    },
    {
      "cell_type": "code",
      "execution_count": null,
      "id": "0c8a85f8",
      "metadata": {
        "id": "0c8a85f8"
      },
      "outputs": [],
      "source": [
        "# 8. For each categorical Feature Display\n",
        "\n",
        "#  count of each instance.\n",
        "#  % count.\n",
        "#  Visualize."
      ]
    },
    {
      "cell_type": "code",
      "execution_count": null,
      "id": "4a3bd345",
      "metadata": {
        "id": "4a3bd345"
      },
      "outputs": [],
      "source": [
        "# 1. 'Ship Mode'"
      ]
    },
    {
      "cell_type": "code",
      "execution_count": null,
      "id": "4fecb7fc",
      "metadata": {
        "id": "4fecb7fc"
      },
      "outputs": [],
      "source": [
        "df['Ship Mode'].value_counts()"
      ]
    },
    {
      "cell_type": "code",
      "execution_count": null,
      "id": "66068d55",
      "metadata": {
        "id": "66068d55"
      },
      "outputs": [],
      "source": [
        "df['Ship Mode'].value_counts(normalize= True) * 100"
      ]
    },
    {
      "cell_type": "code",
      "execution_count": null,
      "id": "cb4e83fb",
      "metadata": {
        "id": "cb4e83fb"
      },
      "outputs": [],
      "source": [
        "df['Ship Mode'].value_counts().plot.bar(color = ['red', 'green', 'blue', 'yellow'], alpha = .5)"
      ]
    },
    {
      "cell_type": "code",
      "execution_count": null,
      "id": "17f62507",
      "metadata": {
        "id": "17f62507",
        "outputId": "df128768-b494-41f3-b8c3-bf6e0d125ef8"
      },
      "outputs": [
        {
          "name": "stdout",
          "output_type": "stream",
          "text": [
            "\n",
            "Ship Mode\n",
            "Standard Class    5968\n",
            "Second Class      1945\n",
            "First Class       1538\n",
            "Same Day           543\n",
            "Name: Ship Mode, dtype: int64\n",
            "Standard Class    59.715829\n",
            "Second Class      19.461677\n",
            "First Class       15.389234\n",
            "Same Day           5.433260\n",
            "Name: Ship Mode, dtype: float64\n",
            " ----------------------------------------------------------- \n",
            "\n",
            "Segment\n",
            "Consumer       5191\n",
            "Corporate      3020\n",
            "Home Office    1783\n",
            "Name: Segment, dtype: int64\n",
            "Consumer       51.941165\n",
            "Corporate      30.218131\n",
            "Home Office    17.840704\n",
            "Name: Segment, dtype: float64\n",
            " ----------------------------------------------------------- \n",
            "\n",
            "Country\n",
            "United States    9994\n",
            "Name: Country, dtype: int64\n",
            "United States    100.0\n",
            "Name: Country, dtype: float64\n",
            " ----------------------------------------------------------- \n",
            "\n",
            "State\n",
            "California              2001\n",
            "New York                1128\n",
            "Texas                    985\n",
            "Pennsylvania             587\n",
            "Washington               506\n",
            "Illinois                 492\n",
            "Ohio                     469\n",
            "Florida                  383\n",
            "Michigan                 255\n",
            "North Carolina           249\n",
            "Arizona                  224\n",
            "Virginia                 224\n",
            "Georgia                  184\n",
            "Tennessee                183\n",
            "Colorado                 182\n",
            "Indiana                  149\n",
            "Kentucky                 139\n",
            "Massachusetts            135\n",
            "New Jersey               130\n",
            "Oregon                   124\n",
            "Wisconsin                110\n",
            "Maryland                 105\n",
            "Delaware                  96\n",
            "Minnesota                 89\n",
            "Connecticut               82\n",
            "Oklahoma                  66\n",
            "Missouri                  66\n",
            "Alabama                   61\n",
            "Arkansas                  60\n",
            "Rhode Island              56\n",
            "Utah                      53\n",
            "Mississippi               53\n",
            "Louisiana                 42\n",
            "South Carolina            42\n",
            "Nevada                    39\n",
            "Nebraska                  38\n",
            "New Mexico                37\n",
            "Iowa                      30\n",
            "New Hampshire             27\n",
            "Kansas                    24\n",
            "Idaho                     21\n",
            "Montana                   15\n",
            "South Dakota              12\n",
            "Vermont                   11\n",
            "District of Columbia      10\n",
            "Maine                      8\n",
            "North Dakota               7\n",
            "West Virginia              4\n",
            "Wyoming                    1\n",
            "Name: State, dtype: int64\n",
            "California              20.022013\n",
            "New York                11.286772\n",
            "Texas                    9.855914\n",
            "Pennsylvania             5.873524\n",
            "Washington               5.063038\n",
            "Illinois                 4.922954\n",
            "Ohio                     4.692816\n",
            "Florida                  3.832299\n",
            "Michigan                 2.551531\n",
            "North Carolina           2.491495\n",
            "Arizona                  2.241345\n",
            "Virginia                 2.241345\n",
            "Georgia                  1.841105\n",
            "Tennessee                1.831099\n",
            "Colorado                 1.821093\n",
            "Indiana                  1.490895\n",
            "Kentucky                 1.390835\n",
            "Massachusetts            1.350810\n",
            "New Jersey               1.300780\n",
            "Oregon                   1.240744\n",
            "Wisconsin                1.100660\n",
            "Maryland                 1.050630\n",
            "Delaware                 0.960576\n",
            "Minnesota                0.890534\n",
            "Connecticut              0.820492\n",
            "Oklahoma                 0.660396\n",
            "Missouri                 0.660396\n",
            "Alabama                  0.610366\n",
            "Arkansas                 0.600360\n",
            "Rhode Island             0.560336\n",
            "Utah                     0.530318\n",
            "Mississippi              0.530318\n",
            "Louisiana                0.420252\n",
            "South Carolina           0.420252\n",
            "Nevada                   0.390234\n",
            "Nebraska                 0.380228\n",
            "New Mexico               0.370222\n",
            "Iowa                     0.300180\n",
            "New Hampshire            0.270162\n",
            "Kansas                   0.240144\n",
            "Idaho                    0.210126\n",
            "Montana                  0.150090\n",
            "South Dakota             0.120072\n",
            "Vermont                  0.110066\n",
            "District of Columbia     0.100060\n",
            "Maine                    0.080048\n",
            "North Dakota             0.070042\n",
            "West Virginia            0.040024\n",
            "Wyoming                  0.010006\n",
            "Name: State, dtype: float64\n",
            " ----------------------------------------------------------- \n",
            "\n",
            "Region\n",
            "West       3203\n",
            "East       2848\n",
            "Central    2323\n",
            "South      1620\n",
            "Name: Region, dtype: int64\n",
            "West       32.049230\n",
            "East       28.497098\n",
            "Central    23.243946\n",
            "South      16.209726\n",
            "Name: Region, dtype: float64\n",
            " ----------------------------------------------------------- \n",
            "\n",
            "Category\n",
            "Office Supplies    6026\n",
            "Furniture          2121\n",
            "Technology         1847\n",
            "Name: Category, dtype: int64\n",
            "Office Supplies    60.296178\n",
            "Furniture          21.222734\n",
            "Technology         18.481089\n",
            "Name: Category, dtype: float64\n",
            " ----------------------------------------------------------- \n",
            "\n",
            "Sub-Category\n",
            "Binders        1523\n",
            "Paper          1370\n",
            "Furnishings     957\n",
            "Phones          889\n",
            "Storage         846\n",
            "Art             796\n",
            "Accessories     775\n",
            "Chairs          617\n",
            "Appliances      466\n",
            "Labels          364\n",
            "Tables          319\n",
            "Envelopes       254\n",
            "Bookcases       228\n",
            "Fasteners       217\n",
            "Supplies        190\n",
            "Machines        115\n",
            "Copiers          68\n",
            "Name: Sub-Category, dtype: int64\n",
            "Binders        15.239143\n",
            "Paper          13.708225\n",
            "Furnishings     9.575745\n",
            "Phones          8.895337\n",
            "Storage         8.465079\n",
            "Art             7.964779\n",
            "Accessories     7.754653\n",
            "Chairs          6.173704\n",
            "Appliances      4.662798\n",
            "Labels          3.642185\n",
            "Tables          3.191915\n",
            "Envelopes       2.541525\n",
            "Bookcases       2.281369\n",
            "Fasteners       2.171303\n",
            "Supplies        1.901141\n",
            "Machines        1.150690\n",
            "Copiers         0.680408\n",
            "Name: Sub-Category, dtype: float64\n",
            " ----------------------------------------------------------- \n"
          ]
        }
      ],
      "source": [
        "for i in cat :\n",
        "    print()\n",
        "    print(i)\n",
        "    print(df[i].value_counts())\n",
        "    print(df[i].value_counts(normalize= True ) * 100 )\n",
        "    print(\" ----------------------------------------------------------- \")"
      ]
    },
    {
      "cell_type": "code",
      "execution_count": null,
      "id": "c228466c",
      "metadata": {
        "id": "c228466c",
        "outputId": "b02ddb70-89d8-489c-c7eb-e2ae0ea4a114"
      },
      "outputs": [
        {
          "data": {
            "image/png": "[encoded data removed]",
            "text/plain": [
              "<Figure size 1500x3500 with 7 Axes>"
            ]
          },
          "metadata": {},
          "output_type": "display_data"
        }
      ],
      "source": [
        "plt.figure(figsize= [15, 35])\n",
        "c = 1\n",
        "for i in cat :\n",
        "    plt.subplot(10, 2, c)     #  # nrows, ncols, index\n",
        "    df[i].value_counts().plot.bar(color = ['red', 'green', 'blue', 'yellow'], alpha = .5)\n",
        "    c = c + 3\n"
      ]
    },
    {
      "cell_type": "code",
      "execution_count": null,
      "id": "d31d1870",
      "metadata": {
        "id": "d31d1870"
      },
      "outputs": [],
      "source": [
        "# Bivariate Analysis"
      ]
    },
    {
      "cell_type": "code",
      "execution_count": null,
      "id": "d0aab2ce",
      "metadata": {
        "id": "d0aab2ce"
      },
      "outputs": [],
      "source": [
        "# cont\n",
        "\n",
        "cont = ['Sales', 'Quantity', 'Discount', 'Profit']\n",
        "\n",
        "# Display 'Ship Mode' wise\n",
        "# i. total sale\n",
        "# ii average sale\n",
        "# iii. median sale"
      ]
    },
    {
      "cell_type": "code",
      "execution_count": null,
      "id": "00d0f79a",
      "metadata": {
        "id": "00d0f79a"
      },
      "outputs": [],
      "source": [
        "# context , functions , expression"
      ]
    },
    {
      "cell_type": "code",
      "execution_count": null,
      "id": "7ddb19fd",
      "metadata": {
        "id": "7ddb19fd",
        "outputId": "23745271-22ad-4e87-f5d6-8b4ccb747579"
      },
      "outputs": [
        {
          "data": {
            "text/plain": [
              "Ship Mode\n",
              "First Class        351428.0\n",
              "Same Day           128363.0\n",
              "Second Class       459194.0\n",
              "Standard Class    1358216.0\n",
              "Name: Sales, dtype: float64"
            ]
          },
          "execution_count": 53,
          "metadata": {},
          "output_type": "execute_result"
        }
      ],
      "source": [
        "df.groupby('Ship Mode')['Sales'].sum().round()"
      ]
    },
    {
      "cell_type": "code",
      "execution_count": null,
      "id": "c7c86baa",
      "metadata": {
        "id": "c7c86baa",
        "outputId": "f6b4ed7a-c9c6-43a4-a238-4e45624acc12"
      },
      "outputs": [
        {
          "data": {
            "text/plain": [
              "Ship Mode\n",
              "First Class       228.50\n",
              "Same Day          236.40\n",
              "Second Class      236.09\n",
              "Standard Class    227.58\n",
              "Name: Sales, dtype: float64"
            ]
          },
          "execution_count": 55,
          "metadata": {},
          "output_type": "execute_result"
        }
      ],
      "source": [
        "df.groupby('Ship Mode')['Sales'].mean().round(2)"
      ]
    },
    {
      "cell_type": "code",
      "execution_count": null,
      "id": "bd7b977c",
      "metadata": {
        "id": "bd7b977c",
        "outputId": "6e4276b0-cfc1-406a-886b-9e874455347e"
      },
      "outputs": [
        {
          "data": {
            "text/plain": [
              "Ship Mode\n",
              "First Class       55.0\n",
              "Same Day          55.0\n",
              "Second Class      58.0\n",
              "Standard Class    53.0\n",
              "Name: Sales, dtype: float64"
            ]
          },
          "execution_count": 57,
          "metadata": {},
          "output_type": "execute_result"
        }
      ],
      "source": [
        "df.groupby('Ship Mode')['Sales'].median().round()"
      ]
    },
    {
      "cell_type": "code",
      "execution_count": null,
      "id": "71b84da5",
      "metadata": {
        "id": "71b84da5"
      },
      "outputs": [],
      "source": [
        "# Display Region wise total\n",
        "\n",
        "# 1. sales    ii. Profit"
      ]
    },
    {
      "cell_type": "code",
      "execution_count": null,
      "id": "2d17be74",
      "metadata": {
        "id": "2d17be74",
        "outputId": "1a5f589e-6e47-47ac-abd1-9902ded77941"
      },
      "outputs": [
        {
          "data": {
            "text/html": [
              "<div>\n",
              "<style scoped>\n",
              "    .dataframe tbody tr th:only-of-type {\n",
              "        vertical-align: middle;\n",
              "    }\n",
              "\n",
              "    .dataframe tbody tr th {\n",
              "        vertical-align: top;\n",
              "    }\n",
              "\n",
              "    .dataframe thead th {\n",
              "        text-align: right;\n",
              "    }\n",
              "</style>\n",
              "<table border=\"1\" class=\"dataframe\">\n",
              "  <thead>\n",
              "    <tr style=\"text-align: right;\">\n",
              "      <th></th>\n",
              "      <th>Sales</th>\n",
              "      <th>Profit</th>\n",
              "    </tr>\n",
              "    <tr>\n",
              "      <th>Region</th>\n",
              "      <th></th>\n",
              "      <th></th>\n",
              "    </tr>\n",
              "  </thead>\n",
              "  <tbody>\n",
              "    <tr>\n",
              "      <th>Central</th>\n",
              "      <td>501240.0</td>\n",
              "      <td>39707.0</td>\n",
              "    </tr>\n",
              "    <tr>\n",
              "      <th>East</th>\n",
              "      <td>678782.0</td>\n",
              "      <td>91523.0</td>\n",
              "    </tr>\n",
              "    <tr>\n",
              "      <th>South</th>\n",
              "      <td>391722.0</td>\n",
              "      <td>46750.0</td>\n",
              "    </tr>\n",
              "    <tr>\n",
              "      <th>West</th>\n",
              "      <td>725458.0</td>\n",
              "      <td>108419.0</td>\n",
              "    </tr>\n",
              "  </tbody>\n",
              "</table>\n",
              "</div>"
            ],
            "text/plain": [
              "            Sales    Profit\n",
              "Region                     \n",
              "Central  501240.0   39707.0\n",
              "East     678782.0   91523.0\n",
              "South    391722.0   46750.0\n",
              "West     725458.0  108419.0"
            ]
          },
          "execution_count": 67,
          "metadata": {},
          "output_type": "execute_result"
        }
      ],
      "source": [
        "np.ceil(df.groupby('Region')[['Sales', 'Profit']].sum())"
      ]
    },
    {
      "cell_type": "code",
      "execution_count": null,
      "id": "fcc9e129",
      "metadata": {
        "id": "fcc9e129",
        "outputId": "6b5c632e-c36d-401c-ab7f-02019dc0f144"
      },
      "outputs": [
        {
          "data": {
            "text/html": [
              "<div>\n",
              "<style scoped>\n",
              "    .dataframe tbody tr th:only-of-type {\n",
              "        vertical-align: middle;\n",
              "    }\n",
              "\n",
              "    .dataframe tbody tr th {\n",
              "        vertical-align: top;\n",
              "    }\n",
              "\n",
              "    .dataframe thead th {\n",
              "        text-align: right;\n",
              "    }\n",
              "</style>\n",
              "<table border=\"1\" class=\"dataframe\">\n",
              "  <thead>\n",
              "    <tr style=\"text-align: right;\">\n",
              "      <th></th>\n",
              "      <th>Sales</th>\n",
              "      <th>Profit</th>\n",
              "    </tr>\n",
              "    <tr>\n",
              "      <th>Region</th>\n",
              "      <th></th>\n",
              "      <th></th>\n",
              "    </tr>\n",
              "  </thead>\n",
              "  <tbody>\n",
              "    <tr>\n",
              "      <th>Central</th>\n",
              "      <td>21.82</td>\n",
              "      <td>13.86</td>\n",
              "    </tr>\n",
              "    <tr>\n",
              "      <th>East</th>\n",
              "      <td>29.55</td>\n",
              "      <td>31.96</td>\n",
              "    </tr>\n",
              "    <tr>\n",
              "      <th>South</th>\n",
              "      <td>17.05</td>\n",
              "      <td>16.32</td>\n",
              "    </tr>\n",
              "    <tr>\n",
              "      <th>West</th>\n",
              "      <td>31.58</td>\n",
              "      <td>37.86</td>\n",
              "    </tr>\n",
              "  </tbody>\n",
              "</table>\n",
              "</div>"
            ],
            "text/plain": [
              "         Sales  Profit\n",
              "Region                \n",
              "Central  21.82   13.86\n",
              "East     29.55   31.96\n",
              "South    17.05   16.32\n",
              "West     31.58   37.86"
            ]
          },
          "execution_count": 69,
          "metadata": {},
          "output_type": "execute_result"
        }
      ],
      "source": [
        "np.round(df.groupby('Region')[['Sales', 'Profit']].sum() / df.groupby('Region')[['Sales', 'Profit']].sum().sum() * 100 ,2 )"
      ]
    },
    {
      "cell_type": "code",
      "execution_count": null,
      "id": "a0fab19d",
      "metadata": {
        "id": "a0fab19d",
        "outputId": "1e013f12-a7cd-48dc-db86-f2d5ea32714d"
      },
      "outputs": [
        {
          "data": {
            "text/plain": [
              "State\n",
              "Pennsylvania    116512.0\n",
              "Washington      138641.0\n",
              "Texas           170188.0\n",
              "New York        310876.0\n",
              "California      457688.0\n",
              "Name: Sales, dtype: float64"
            ]
          },
          "execution_count": 80,
          "metadata": {},
          "output_type": "execute_result"
        }
      ],
      "source": [
        "# Display total sales by top 5 states.\n",
        "\n",
        "df.groupby('State')['Sales'].sum().sort_values().round()[ -5 : ]"
      ]
    },
    {
      "cell_type": "code",
      "execution_count": null,
      "id": "bb13df24",
      "metadata": {
        "id": "bb13df24",
        "outputId": "5550b8f9-b93e-452b-c919-7467561f000a"
      },
      "outputs": [
        {
          "data": {
            "text/plain": [
              "City\n",
              "New York City    71361.0\n",
              "Los Angeles      48822.0\n",
              "San Francisco    42253.0\n",
              "Seattle          36038.0\n",
              "Philadelphia     30658.0\n",
              "Detroit          18431.0\n",
              "Houston          16370.0\n",
              "Springfield      13887.0\n",
              "Chicago          13860.0\n",
              "Columbus         13733.0\n",
              "Name: Sales, dtype: float64"
            ]
          },
          "execution_count": 89,
          "metadata": {},
          "output_type": "execute_result"
        }
      ],
      "source": [
        "# Display top 5 cities with 'office supplies'.\n",
        "\n",
        "df[df.Category == 'Office Supplies'].groupby('City')['Sales'].sum().sort_values(ascending = False).round()[: 10]"
      ]
    },
    {
      "cell_type": "code",
      "execution_count": null,
      "id": "eb4d8797",
      "metadata": {
        "id": "eb4d8797"
      },
      "outputs": [],
      "source": []
    }
  ],
  "metadata": {
    "kernelspec": {
      "display_name": "Python 3 (ipykernel)",
      "language": "python",
      "name": "python3"
    },
    "language_info": {
      "codemirror_mode": {
        "name": "ipython",
        "version": 3
      },
      "file_extension": ".py",
      "mimetype": "text/x-python",
      "name": "python",
      "nbconvert_exporter": "python",
      "pygments_lexer": "ipython3",
      "version": "3.11.4"
    },
    "colab": {
      "provenance": []
    }
  },
  "nbformat": 4,
  "nbformat_minor": 5
}
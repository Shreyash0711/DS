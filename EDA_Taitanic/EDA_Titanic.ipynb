{
  "cells": [
    {
      "cell_type": "markdown",
      "id": "8dfeb932",
      "metadata": {
        "id": "8dfeb932"
      },
      "source": [
        "###  Project 1 : Exploratory Data Analysis : Titanic Dataset"
      ]
    },
    {
      "cell_type": "code",
      "execution_count": null,
      "id": "9ab5a5b2",
      "metadata": {
        "id": "9ab5a5b2"
      },
      "outputs": [],
      "source": [
        "# Import Libraries\n",
        "\n",
        "import numpy as np\n",
        "import pandas as pd\n",
        "\n",
        "import matplotlib.pyplot as plt\n",
        "import seaborn as sns"
      ]
    },
    {
      "cell_type": "code",
      "execution_count": null,
      "id": "2d137ea2",
      "metadata": {
        "id": "2d137ea2"
      },
      "outputs": [],
      "source": [
        "# Load titanic dataset\n",
        "\n",
        "df = sns.load_dataset('titanic')"
      ]
    },
    {
      "cell_type": "code",
      "execution_count": null,
      "id": "2a754aa5",
      "metadata": {
        "id": "2a754aa5",
        "outputId": "6f96f344-e945-4fe2-91ac-85a67006d80c"
      },
      "outputs": [
        {
          "data": {
            "text/plain": [
              "Index(['survived', 'pclass', 'sex', 'age', 'sibsp', 'parch', 'fare',\n",
              "       'embarked', 'class', 'who', 'adult_male', 'deck', 'embark_town',\n",
              "       'alive', 'alone'],\n",
              "      dtype='object')"
            ]
          },
          "execution_count": 4,
          "metadata": {},
          "output_type": "execute_result"
        }
      ],
      "source": [
        "df.columns"
      ]
    },
    {
      "cell_type": "code",
      "execution_count": null,
      "id": "73b9747b",
      "metadata": {
        "id": "73b9747b"
      },
      "outputs": [],
      "source": [
        "# 1. Display Total Number of Rows and Columns.\n",
        "# 2. Display Column Survived.\n",
        "# 3. Display Sex, Age, Fare.\n",
        "# 4. Display Data types of each feature."
      ]
    },
    {
      "cell_type": "code",
      "execution_count": null,
      "id": "3233be00",
      "metadata": {
        "id": "3233be00",
        "outputId": "2e02e04d-8377-4be7-c33f-134d09bc2500"
      },
      "outputs": [
        {
          "name": "stdout",
          "output_type": "stream",
          "text": [
            "Rows    :  891 \n",
            "COlumns :  15\n"
          ]
        }
      ],
      "source": [
        "# 1. Display Total Number of Rows and Columns.\n",
        "\n",
        "print(\"Rows    : \", df.shape[0], \"\\nCOlumns : \", df.shape[1])"
      ]
    },
    {
      "cell_type": "code",
      "execution_count": null,
      "id": "aa00ffc0",
      "metadata": {
        "id": "aa00ffc0"
      },
      "outputs": [],
      "source": [
        "# 2. Display Column Survived.\n",
        "\n",
        "df['survived']"
      ]
    },
    {
      "cell_type": "code",
      "execution_count": null,
      "id": "07ae5c2f",
      "metadata": {
        "id": "07ae5c2f"
      },
      "outputs": [],
      "source": [
        "# 3. Display Sex, Age, Fare.\n",
        "\n",
        "df[['sex', 'age', 'fare']]"
      ]
    },
    {
      "cell_type": "code",
      "execution_count": null,
      "id": "fc26b385",
      "metadata": {
        "id": "fc26b385"
      },
      "outputs": [],
      "source": [
        "# 4. Display Data types of each feature.\n",
        "\n",
        "df.dtypes"
      ]
    },
    {
      "cell_type": "code",
      "execution_count": null,
      "id": "300e2c5e",
      "metadata": {
        "id": "300e2c5e"
      },
      "outputs": [],
      "source": [
        "# head() tail() sample()\n",
        "\n",
        "# 5. Display first 5 rows.\n",
        "# 6. Display first 7 rows.\n",
        "# 7. Display random 3 rows.\n",
        "# 8. Display Last 5 rows.\n",
        "# 9. Display rows from 51 to 60.\n",
        "# 10. Display 501 to 550.\n",
        "# 11. Display all even rows from 777 to 888.\n",
        "# 12 Display every fifth rows from 251 to 300."
      ]
    },
    {
      "cell_type": "code",
      "execution_count": null,
      "id": "186725a6",
      "metadata": {
        "id": "186725a6"
      },
      "outputs": [],
      "source": [
        "# 5. Display first 5 rows.\n",
        "\n",
        "df.head()"
      ]
    },
    {
      "cell_type": "code",
      "execution_count": null,
      "id": "1383cde8",
      "metadata": {
        "id": "1383cde8"
      },
      "outputs": [],
      "source": [
        "# 6. Display first 7 rows.\n",
        "\n",
        "df.head(7)"
      ]
    },
    {
      "cell_type": "code",
      "execution_count": null,
      "id": "8781c58c",
      "metadata": {
        "id": "8781c58c"
      },
      "outputs": [],
      "source": [
        "# 7. Display random 3 rows.\n",
        "\n",
        "df.sample(3)"
      ]
    },
    {
      "cell_type": "code",
      "execution_count": null,
      "id": "f6933978",
      "metadata": {
        "id": "f6933978"
      },
      "outputs": [],
      "source": [
        "# 8. Display Last 5 rows.\n",
        "\n",
        "df.tail()"
      ]
    },
    {
      "cell_type": "code",
      "execution_count": null,
      "id": "424539ae",
      "metadata": {
        "id": "424539ae"
      },
      "outputs": [],
      "source": [
        "# 9. Display rows from 51 to 60.\n",
        "\n",
        "df.iloc[51 : 61]"
      ]
    },
    {
      "cell_type": "code",
      "execution_count": null,
      "id": "dbbb1282",
      "metadata": {
        "id": "dbbb1282"
      },
      "outputs": [],
      "source": [
        "# 10. Display 501 to 550.\n",
        "\n",
        "df.iloc[501 : 551]"
      ]
    },
    {
      "cell_type": "code",
      "execution_count": null,
      "id": "49ce8009",
      "metadata": {
        "id": "49ce8009"
      },
      "outputs": [],
      "source": [
        "# 11. Display all even rows from 777 to 888.\n",
        "\n",
        "df.iloc[778 : 889 : 2 ]"
      ]
    },
    {
      "cell_type": "code",
      "execution_count": null,
      "id": "42e01c57",
      "metadata": {
        "id": "42e01c57"
      },
      "outputs": [],
      "source": [
        "# 12 Display every fifth rows from 251 to 300.\n",
        "\n",
        "df.iloc[251 : 301 : 5 ]"
      ]
    },
    {
      "cell_type": "code",
      "execution_count": null,
      "id": "7bd7bd60",
      "metadata": {
        "id": "7bd7bd60",
        "outputId": "27ecf717-4221-48d0-e3da-85ea8d2f193e"
      },
      "outputs": [
        {
          "data": {
            "text/plain": [
              "Index(['survived', 'pclass', 'sex', 'age', 'sibsp', 'parch', 'fare',\n",
              "       'embarked', 'class', 'who', 'adult_male', 'deck', 'embark_town',\n",
              "       'alive', 'alone'],\n",
              "      dtype='object')"
            ]
          },
          "execution_count": 34,
          "metadata": {},
          "output_type": "execute_result"
        }
      ],
      "source": [
        "df.columns"
      ]
    },
    {
      "cell_type": "code",
      "execution_count": null,
      "id": "d6ab223d",
      "metadata": {
        "id": "d6ab223d"
      },
      "outputs": [],
      "source": [
        "# 13. Display fist 25 rows of 'survived', 'pclass', age', 'sibsp'.\n",
        "# 14. DIsplay random 5 rows for 'who', 'deck', 'survived'.\n",
        "# 15. Display all rows from 151 to 200 of 'sex', 'pclass', 'embark_town'\n",
        "# 16. Display every 7th row fro 555 to 666 for 'age', 'fare', sex, survived.\n",
        "# 17. Display all numerical features from 444 to 555.\n",
        "# 18. Display non numerical features from 666 to 777."
      ]
    },
    {
      "cell_type": "code",
      "execution_count": null,
      "id": "7e5ac70c",
      "metadata": {
        "id": "7e5ac70c"
      },
      "outputs": [],
      "source": [
        "# 13. Display fist 25 rows of 'survived', 'pclass', age', 'sibsp'.\n",
        "\n",
        "df[['survived', 'pclass', 'age', 'sibsp']].iloc[ : 25]"
      ]
    },
    {
      "cell_type": "code",
      "execution_count": null,
      "id": "06d85893",
      "metadata": {
        "id": "06d85893"
      },
      "outputs": [],
      "source": [
        "df.loc[: 25][['survived', 'pclass', 'age', 'sibsp']]"
      ]
    },
    {
      "cell_type": "code",
      "execution_count": null,
      "id": "e74ba71a",
      "metadata": {
        "id": "e74ba71a"
      },
      "outputs": [],
      "source": [
        "# 14. Display random 5 rows for 'who', 'deck', 'survived'.\n",
        "\n",
        "df[['who', 'deck', 'survived']].sample(5)"
      ]
    },
    {
      "cell_type": "code",
      "execution_count": null,
      "id": "92ea3abe",
      "metadata": {
        "id": "92ea3abe"
      },
      "outputs": [],
      "source": [
        "# 15. Display all rows from 151 to 200 of 'sex', 'pclass', 'embark_town'\n",
        "\n",
        "df[['sex', 'pclass', 'embark_town']].iloc[151 : 201 ]"
      ]
    },
    {
      "cell_type": "code",
      "execution_count": null,
      "id": "1825264c",
      "metadata": {
        "id": "1825264c"
      },
      "outputs": [],
      "source": [
        "# 16. Display every 7th row fro 555 to 666 for 'age', 'fare', sex, survived.\n",
        "\n",
        "df[['age', 'fare', 'sex', 'survived']].iloc[555 : 666+1 : 7 ]"
      ]
    },
    {
      "cell_type": "code",
      "execution_count": null,
      "id": "edec8ef5",
      "metadata": {
        "id": "edec8ef5"
      },
      "outputs": [],
      "source": [
        "# 17. Display all numerical features from 444 to 555.\n",
        "\n",
        "df.select_dtypes(include=['int64' ,  'float64' ]).iloc[444 : 555+1]"
      ]
    },
    {
      "cell_type": "code",
      "execution_count": null,
      "id": "01a632fe",
      "metadata": {
        "id": "01a632fe",
        "outputId": "68036001-cb61-4060-f4db-4e8f8d18a311"
      },
      "outputs": [
        {
          "data": {
            "text/plain": [
              "survived          int64\n",
              "pclass            int64\n",
              "sex              object\n",
              "age             float64\n",
              "sibsp             int64\n",
              "parch             int64\n",
              "fare            float64\n",
              "embarked         object\n",
              "class          category\n",
              "who              object\n",
              "adult_male         bool\n",
              "deck           category\n",
              "embark_town      object\n",
              "alive            object\n",
              "alone              bool\n",
              "dtype: object"
            ]
          },
          "execution_count": 52,
          "metadata": {},
          "output_type": "execute_result"
        }
      ],
      "source": [
        "df.dtypes"
      ]
    },
    {
      "cell_type": "code",
      "execution_count": null,
      "id": "e9b6cf3e",
      "metadata": {
        "id": "e9b6cf3e"
      },
      "outputs": [],
      "source": [
        "# 18. Display non numerical features from 666 to 777.\n",
        "\n",
        "df.select_dtypes(exclude='number').iloc[666 : 777+1]"
      ]
    },
    {
      "cell_type": "code",
      "execution_count": null,
      "id": "f56cd3be",
      "metadata": {
        "id": "f56cd3be"
      },
      "outputs": [],
      "source": [
        "# 19.  Display all passengers travelling in first class.\n",
        "# 20   Display all about 'male'\n",
        "# 21. Display all where town = Southampton\n",
        "# 22. DIsplay all who Survived.\n",
        "# 23. Display all who paid above average fair.    mean()"
      ]
    },
    {
      "cell_type": "code",
      "execution_count": null,
      "id": "c3094a87",
      "metadata": {
        "id": "c3094a87"
      },
      "outputs": [],
      "source": [
        "# 19.  Display all passengers travelling in first class.\n",
        "\n",
        "df[df.pclass == 1 ]"
      ]
    },
    {
      "cell_type": "code",
      "execution_count": null,
      "id": "c9a45640",
      "metadata": {
        "id": "c9a45640"
      },
      "outputs": [],
      "source": [
        "# 20   Display all about 'male'\n",
        "\n",
        "df[df.sex == 'male']"
      ]
    },
    {
      "cell_type": "code",
      "execution_count": null,
      "id": "88b620d0",
      "metadata": {
        "id": "88b620d0"
      },
      "outputs": [],
      "source": [
        "# 21. Display all where town = Southampton\n",
        "\n",
        "df[df.embark_town == 'Southampton']"
      ]
    },
    {
      "cell_type": "code",
      "execution_count": null,
      "id": "f076afdd",
      "metadata": {
        "id": "f076afdd"
      },
      "outputs": [],
      "source": [
        "# 22. DIsplay all who Survived.    1 : survived\n",
        "\n",
        "df[df.survived == 1]"
      ]
    },
    {
      "cell_type": "code",
      "execution_count": null,
      "id": "35a40ce0",
      "metadata": {
        "id": "35a40ce0"
      },
      "outputs": [],
      "source": [
        "# 23. Display all who paid above average fair.    mean()\n",
        "\n",
        "df[df.fare >= df.fare.mean()]"
      ]
    },
    {
      "cell_type": "code",
      "execution_count": null,
      "id": "b77399a7",
      "metadata": {
        "id": "b77399a7"
      },
      "outputs": [],
      "source": [
        "# Multiple conditions :\n",
        "# Bitwise Operators  : and & , or |, not !"
      ]
    },
    {
      "cell_type": "code",
      "execution_count": null,
      "id": "5d7f1a3b",
      "metadata": {
        "id": "5d7f1a3b"
      },
      "outputs": [],
      "source": [
        "# 24. DIsplay females in first 100 rows that embarked at 'C'\n",
        "# 25. DIsplay males from 2 class.\n",
        "# 26. DIsplay females from 2,3 class.\n",
        "# 27. Display passengers that survived , travelling in class 1 .\n",
        "# 28. Display passengers that survived travelling with family membrs."
      ]
    },
    {
      "cell_type": "code",
      "execution_count": null,
      "id": "43671c6d",
      "metadata": {
        "id": "43671c6d"
      },
      "outputs": [],
      "source": [
        "# 24. DIsplay females in first 100 rows that embarked at 'C'\n",
        "\n",
        "df.head(100)[(df.sex == 'female') & (df.embarked == 'C')]"
      ]
    },
    {
      "cell_type": "code",
      "execution_count": null,
      "id": "5e0a2093",
      "metadata": {
        "id": "5e0a2093"
      },
      "outputs": [],
      "source": [
        "# 25. Display males from 2 class.\n",
        "\n",
        "df[(df.sex == 'male' ) & (df.pclass == 2 )]"
      ]
    },
    {
      "cell_type": "code",
      "execution_count": null,
      "id": "da57fe7c",
      "metadata": {
        "id": "da57fe7c"
      },
      "outputs": [],
      "source": [
        "# 26. Display females from 2,3 class.\n",
        "\n",
        "df[((df.pclass == 2) | (df.pclass == 3 ))  & (df.sex == 'female')]"
      ]
    },
    {
      "cell_type": "code",
      "execution_count": null,
      "id": "dacd4399",
      "metadata": {
        "id": "dacd4399"
      },
      "outputs": [],
      "source": [
        "# 27. Display passengers that survived , travelling in class 1 .\n",
        "\n"
      ]
    },
    {
      "cell_type": "code",
      "execution_count": null,
      "id": "461e5b11",
      "metadata": {
        "id": "461e5b11"
      },
      "outputs": [],
      "source": [
        "# 28. Display passengers that survived travelling with family membrs.\n",
        "\n",
        "df[((df.sibsp > 0) | (df.parch > 0 )) & df.survived == 1 ]"
      ]
    },
    {
      "cell_type": "code",
      "execution_count": null,
      "id": "34845c6d",
      "metadata": {
        "id": "34845c6d"
      },
      "outputs": [],
      "source": [
        "# 29. Create a new column as total_family_members.\n",
        "\n",
        "df['Family Members'] = df['sibsp'] + df['parch']\n"
      ]
    },
    {
      "cell_type": "code",
      "execution_count": null,
      "id": "0f93c1a7",
      "metadata": {
        "id": "0f93c1a7"
      },
      "outputs": [],
      "source": [
        "# 30. Display all males that were travelling alone.\n",
        "\n",
        "df[(df.sex == 'male') & (df['Family Members'] == 0 )]"
      ]
    },
    {
      "cell_type": "code",
      "execution_count": null,
      "id": "5a116e7a",
      "metadata": {
        "id": "5a116e7a"
      },
      "outputs": [],
      "source": [
        "df[(df.sex == 'male') & (df.alone == True )]"
      ]
    },
    {
      "cell_type": "code",
      "execution_count": null,
      "id": "9a0c94b9",
      "metadata": {
        "id": "9a0c94b9"
      },
      "outputs": [],
      "source": [
        "# 1. value_counts()"
      ]
    },
    {
      "cell_type": "code",
      "execution_count": null,
      "id": "2ae8b2ef",
      "metadata": {
        "id": "2ae8b2ef"
      },
      "outputs": [],
      "source": [
        "# 31. Display Survival Status also %.\n",
        "# 32. Display count of male/female.\n",
        "# 33. Display count of passengers travelling in each class.\n",
        "# 34. Display count of passengers embarked at each station."
      ]
    },
    {
      "cell_type": "code",
      "execution_count": null,
      "id": "35111047",
      "metadata": {
        "id": "35111047",
        "outputId": "f9fb6a79-d0c3-4378-afb2-9bed625460f0"
      },
      "outputs": [
        {
          "data": {
            "text/plain": [
              "0    549\n",
              "1    342\n",
              "Name: survived, dtype: int64"
            ]
          },
          "execution_count": 20,
          "metadata": {},
          "output_type": "execute_result"
        }
      ],
      "source": [
        "# 31. Display Survival Status also %.\n",
        "\n",
        "df['survived'].value_counts()"
      ]
    },
    {
      "cell_type": "code",
      "execution_count": null,
      "id": "9f41c1ed",
      "metadata": {
        "id": "9f41c1ed",
        "outputId": "2af27585-1c76-449d-99ed-1587ef360c3c"
      },
      "outputs": [
        {
          "data": {
            "text/plain": [
              "0    61.62\n",
              "1    38.38\n",
              "Name: survived, dtype: float64"
            ]
          },
          "execution_count": 25,
          "metadata": {},
          "output_type": "execute_result"
        }
      ],
      "source": [
        "# %  Survival Status\n",
        "\n",
        "np.round(df['survived'].value_counts() / df.shape[0] * 100 , 2)"
      ]
    },
    {
      "cell_type": "code",
      "execution_count": null,
      "id": "70f65a55",
      "metadata": {
        "id": "70f65a55",
        "outputId": "d0ff8cbe-5cbe-4767-ca97-a6b34304c63d"
      },
      "outputs": [
        {
          "data": {
            "text/plain": [
              "male      577\n",
              "female    314\n",
              "Name: sex, dtype: int64"
            ]
          },
          "execution_count": 27,
          "metadata": {},
          "output_type": "execute_result"
        }
      ],
      "source": [
        "# 32. Display count of male/female.\n",
        "\n",
        "df['sex'].value_counts()"
      ]
    },
    {
      "cell_type": "code",
      "execution_count": null,
      "id": "5eaf4f4c",
      "metadata": {
        "id": "5eaf4f4c",
        "outputId": "d4dbbdaf-6f44-4730-9c38-f64702c2dd2a"
      },
      "outputs": [
        {
          "data": {
            "text/plain": [
              "3    491\n",
              "1    216\n",
              "2    184\n",
              "Name: pclass, dtype: int64"
            ]
          },
          "execution_count": 29,
          "metadata": {},
          "output_type": "execute_result"
        }
      ],
      "source": [
        "# 33. Display count of passengers travelling in each class.\n",
        "\n",
        "df['pclass'].value_counts()"
      ]
    },
    {
      "cell_type": "code",
      "execution_count": null,
      "id": "b44dcb8c",
      "metadata": {
        "id": "b44dcb8c",
        "outputId": "71f89ff1-c634-4092-c8d6-d733b527975c"
      },
      "outputs": [
        {
          "data": {
            "text/plain": [
              "3    55.11\n",
              "1    24.24\n",
              "2    20.65\n",
              "Name: pclass, dtype: float64"
            ]
          },
          "execution_count": 32,
          "metadata": {},
          "output_type": "execute_result"
        }
      ],
      "source": [
        "np.round(df['pclass'].value_counts() / df['pclass'].value_counts().sum() * 100 , 2)"
      ]
    },
    {
      "cell_type": "code",
      "execution_count": null,
      "id": "1da7fe22",
      "metadata": {
        "id": "1da7fe22",
        "outputId": "bc9ed295-e23e-4d07-83ca-ea232b848394"
      },
      "outputs": [
        {
          "data": {
            "text/plain": [
              "Southampton    644\n",
              "Cherbourg      168\n",
              "Queenstown      77\n",
              "Name: embark_town, dtype: int64"
            ]
          },
          "execution_count": 34,
          "metadata": {},
          "output_type": "execute_result"
        }
      ],
      "source": [
        "# 34. Display count of passengers embarked at each station.\n",
        "\n",
        "df['embark_town'].value_counts()"
      ]
    },
    {
      "cell_type": "code",
      "execution_count": null,
      "id": "d4dcfc4a",
      "metadata": {
        "id": "d4dcfc4a"
      },
      "outputs": [],
      "source": [
        "# 35. Display survival status\n",
        "# i.  male.\n",
        "# ii. pclass 3\n",
        "# iii. males with no family members\n",
        "# iv. embarked at Cherbourg"
      ]
    },
    {
      "cell_type": "code",
      "execution_count": null,
      "id": "8829c395",
      "metadata": {
        "id": "8829c395",
        "outputId": "44f1450a-f95b-49d1-a41b-e24bdb5cba75"
      },
      "outputs": [
        {
          "data": {
            "text/plain": [
              "0    468\n",
              "1    109\n",
              "Name: survived, dtype: int64"
            ]
          },
          "execution_count": 37,
          "metadata": {},
          "output_type": "execute_result"
        }
      ],
      "source": [
        "# i.  male.\n",
        "\n",
        "df[df.sex == 'male']['survived'].value_counts()"
      ]
    },
    {
      "cell_type": "code",
      "execution_count": null,
      "id": "53b94358",
      "metadata": {
        "id": "53b94358",
        "outputId": "4a18750c-294c-4f6a-ac3e-2f9b404a6d28"
      },
      "outputs": [
        {
          "data": {
            "text/plain": [
              "0    81.11\n",
              "1    18.89\n",
              "Name: survived, dtype: float64"
            ]
          },
          "execution_count": 40,
          "metadata": {},
          "output_type": "execute_result"
        }
      ],
      "source": [
        "np.round(df[df.sex == 'male']['survived'].value_counts() / df[df.sex == 'male']['survived'].value_counts().sum() * 100 ,2 )"
      ]
    },
    {
      "cell_type": "code",
      "execution_count": null,
      "id": "8ff56e29",
      "metadata": {
        "id": "8ff56e29",
        "outputId": "abd88854-e63d-4712-93e4-73272acfd2c4"
      },
      "outputs": [
        {
          "data": {
            "text/plain": [
              "0    372\n",
              "1    119\n",
              "Name: survived, dtype: int64"
            ]
          },
          "execution_count": 42,
          "metadata": {},
          "output_type": "execute_result"
        }
      ],
      "source": [
        "# ii. pclass 3\n",
        "\n",
        "df[df.pclass == 3]['survived'].value_counts()"
      ]
    },
    {
      "cell_type": "code",
      "execution_count": null,
      "id": "35982e84",
      "metadata": {
        "id": "35982e84",
        "outputId": "c37a59f2-9e69-48a7-8d6c-51135de70f18"
      },
      "outputs": [
        {
          "data": {
            "text/plain": [
              "0    76.0\n",
              "1    24.0\n",
              "Name: survived, dtype: float64"
            ]
          },
          "execution_count": 45,
          "metadata": {},
          "output_type": "execute_result"
        }
      ],
      "source": [
        "np.round(df[df.pclass == 3]['survived'].value_counts() / df[df.pclass == 3]['survived'].value_counts().sum() * 100 )"
      ]
    },
    {
      "cell_type": "code",
      "execution_count": null,
      "id": "e7f6cbb7",
      "metadata": {
        "id": "e7f6cbb7",
        "outputId": "d9d9cbce-fd8c-45c2-d2ca-d36f7f8c6eb2"
      },
      "outputs": [
        {
          "data": {
            "text/plain": [
              "0    347\n",
              "1     64\n",
              "Name: survived, dtype: int64"
            ]
          },
          "execution_count": 48,
          "metadata": {},
          "output_type": "execute_result"
        }
      ],
      "source": [
        "# iii. male with no family members\n",
        "\n",
        "df[(df.sex == 'male' ) & (df.alone == True)]['survived'].value_counts()"
      ]
    },
    {
      "cell_type": "code",
      "execution_count": null,
      "id": "b9e69099",
      "metadata": {
        "id": "b9e69099",
        "outputId": "a98b6002-de05-428a-96e9-86b8e4619694"
      },
      "outputs": [
        {
          "data": {
            "text/plain": [
              "0    0.844282\n",
              "1    0.155718\n",
              "Name: survived, dtype: float64"
            ]
          },
          "execution_count": 49,
          "metadata": {},
          "output_type": "execute_result"
        }
      ],
      "source": [
        "df[(df.sex == 'male' ) & (df.alone == True)]['survived'].value_counts()  / df[(df.sex == 'male' ) & (df.alone == True)]['survived'].value_counts().sum()"
      ]
    },
    {
      "cell_type": "code",
      "execution_count": null,
      "id": "bd1cb073",
      "metadata": {
        "id": "bd1cb073",
        "outputId": "8a289db5-45c5-4cb4-ede8-afe2dcec64b5"
      },
      "outputs": [
        {
          "data": {
            "text/plain": [
              "1    93\n",
              "0    75\n",
              "Name: survived, dtype: int64"
            ]
          },
          "execution_count": 51,
          "metadata": {},
          "output_type": "execute_result"
        }
      ],
      "source": [
        "# iv. embarked at Cherbourg\n",
        "\n",
        "df[ df.embark_town == 'Cherbourg']['survived'].value_counts()"
      ]
    },
    {
      "cell_type": "code",
      "execution_count": null,
      "id": "fc1c5995",
      "metadata": {
        "id": "fc1c5995"
      },
      "outputs": [],
      "source": [
        "# 2. Bi Vairate Analysis :"
      ]
    },
    {
      "cell_type": "code",
      "execution_count": null,
      "id": "22a644e9",
      "metadata": {
        "id": "22a644e9"
      },
      "outputs": [],
      "source": [
        "# groupby()"
      ]
    },
    {
      "cell_type": "code",
      "execution_count": null,
      "id": "6865dfdf",
      "metadata": {
        "id": "6865dfdf"
      },
      "outputs": [],
      "source": [
        "# 36. Display Survival Status of\n",
        "# i.   each sex\n",
        "# ii.  each passenger class\n",
        "# iii. embark_town\n",
        "# iv.  family members"
      ]
    },
    {
      "cell_type": "code",
      "execution_count": null,
      "id": "d20603ed",
      "metadata": {
        "id": "d20603ed",
        "outputId": "ace609e1-a0cb-49b7-fb44-c0ef80db9c5e"
      },
      "outputs": [
        {
          "data": {
            "text/html": [
              "<div>\n",
              "<style scoped>\n",
              "    .dataframe tbody tr th:only-of-type {\n",
              "        vertical-align: middle;\n",
              "    }\n",
              "\n",
              "    .dataframe tbody tr th {\n",
              "        vertical-align: top;\n",
              "    }\n",
              "\n",
              "    .dataframe thead th {\n",
              "        text-align: right;\n",
              "    }\n",
              "</style>\n",
              "<table border=\"1\" class=\"dataframe\">\n",
              "  <thead>\n",
              "    <tr style=\"text-align: right;\">\n",
              "      <th>survived</th>\n",
              "      <th>0</th>\n",
              "      <th>1</th>\n",
              "    </tr>\n",
              "    <tr>\n",
              "      <th>sex</th>\n",
              "      <th></th>\n",
              "      <th></th>\n",
              "    </tr>\n",
              "  </thead>\n",
              "  <tbody>\n",
              "    <tr>\n",
              "      <th>female</th>\n",
              "      <td>81</td>\n",
              "      <td>233</td>\n",
              "    </tr>\n",
              "    <tr>\n",
              "      <th>male</th>\n",
              "      <td>468</td>\n",
              "      <td>109</td>\n",
              "    </tr>\n",
              "  </tbody>\n",
              "</table>\n",
              "</div>"
            ],
            "text/plain": [
              "survived    0    1\n",
              "sex               \n",
              "female     81  233\n",
              "male      468  109"
            ]
          },
          "execution_count": 58,
          "metadata": {},
          "output_type": "execute_result"
        }
      ],
      "source": [
        "# i.   each sex\n",
        "\n",
        "df.groupby('sex')['survived'].value_counts().unstack()"
      ]
    },
    {
      "cell_type": "code",
      "execution_count": null,
      "id": "4955c50a",
      "metadata": {
        "id": "4955c50a",
        "outputId": "045f586f-1e7c-4c9f-a683-4b01c7408db8"
      },
      "outputs": [
        {
          "data": {
            "text/html": [
              "<div>\n",
              "<style scoped>\n",
              "    .dataframe tbody tr th:only-of-type {\n",
              "        vertical-align: middle;\n",
              "    }\n",
              "\n",
              "    .dataframe tbody tr th {\n",
              "        vertical-align: top;\n",
              "    }\n",
              "\n",
              "    .dataframe thead th {\n",
              "        text-align: right;\n",
              "    }\n",
              "</style>\n",
              "<table border=\"1\" class=\"dataframe\">\n",
              "  <thead>\n",
              "    <tr style=\"text-align: right;\">\n",
              "      <th>survived</th>\n",
              "      <th>0</th>\n",
              "      <th>1</th>\n",
              "    </tr>\n",
              "    <tr>\n",
              "      <th>sex</th>\n",
              "      <th></th>\n",
              "      <th></th>\n",
              "    </tr>\n",
              "  </thead>\n",
              "  <tbody>\n",
              "    <tr>\n",
              "      <th>female</th>\n",
              "      <td>9.090909</td>\n",
              "      <td>26.150393</td>\n",
              "    </tr>\n",
              "    <tr>\n",
              "      <th>male</th>\n",
              "      <td>52.525253</td>\n",
              "      <td>12.233446</td>\n",
              "    </tr>\n",
              "  </tbody>\n",
              "</table>\n",
              "</div>"
            ],
            "text/plain": [
              "survived          0          1\n",
              "sex                           \n",
              "female     9.090909  26.150393\n",
              "male      52.525253  12.233446"
            ]
          },
          "execution_count": 60,
          "metadata": {},
          "output_type": "execute_result"
        }
      ],
      "source": [
        "df.groupby('sex')['survived'].value_counts().unstack() / 891 * 100"
      ]
    },
    {
      "cell_type": "code",
      "execution_count": null,
      "id": "8b5db0fa",
      "metadata": {
        "id": "8b5db0fa",
        "outputId": "79aca9ec-f895-4ff6-e8a5-5f2ea923294c"
      },
      "outputs": [
        {
          "data": {
            "text/html": [
              "<div>\n",
              "<style scoped>\n",
              "    .dataframe tbody tr th:only-of-type {\n",
              "        vertical-align: middle;\n",
              "    }\n",
              "\n",
              "    .dataframe tbody tr th {\n",
              "        vertical-align: top;\n",
              "    }\n",
              "\n",
              "    .dataframe thead th {\n",
              "        text-align: right;\n",
              "    }\n",
              "</style>\n",
              "<table border=\"1\" class=\"dataframe\">\n",
              "  <thead>\n",
              "    <tr style=\"text-align: right;\">\n",
              "      <th>survived</th>\n",
              "      <th>0</th>\n",
              "      <th>1</th>\n",
              "    </tr>\n",
              "    <tr>\n",
              "      <th>sex</th>\n",
              "      <th></th>\n",
              "      <th></th>\n",
              "    </tr>\n",
              "  </thead>\n",
              "  <tbody>\n",
              "    <tr>\n",
              "      <th>female</th>\n",
              "      <td>81</td>\n",
              "      <td>233</td>\n",
              "    </tr>\n",
              "    <tr>\n",
              "      <th>male</th>\n",
              "      <td>468</td>\n",
              "      <td>109</td>\n",
              "    </tr>\n",
              "  </tbody>\n",
              "</table>\n",
              "</div>"
            ],
            "text/plain": [
              "survived    0    1\n",
              "sex               \n",
              "female     81  233\n",
              "male      468  109"
            ]
          },
          "execution_count": 77,
          "metadata": {},
          "output_type": "execute_result"
        }
      ],
      "source": [
        "# 1. sex\n",
        "df.groupby('sex')['survived'].value_counts().unstack()"
      ]
    },
    {
      "cell_type": "code",
      "execution_count": null,
      "id": "dac0e376",
      "metadata": {
        "id": "dac0e376",
        "outputId": "3dd908ba-2f19-472c-f395-3e22a02f0e89"
      },
      "outputs": [
        {
          "data": {
            "text/html": [
              "<div>\n",
              "<style scoped>\n",
              "    .dataframe tbody tr th:only-of-type {\n",
              "        vertical-align: middle;\n",
              "    }\n",
              "\n",
              "    .dataframe tbody tr th {\n",
              "        vertical-align: top;\n",
              "    }\n",
              "\n",
              "    .dataframe thead th {\n",
              "        text-align: right;\n",
              "    }\n",
              "</style>\n",
              "<table border=\"1\" class=\"dataframe\">\n",
              "  <thead>\n",
              "    <tr style=\"text-align: right;\">\n",
              "      <th>survived</th>\n",
              "      <th>0</th>\n",
              "      <th>1</th>\n",
              "    </tr>\n",
              "    <tr>\n",
              "      <th>sex</th>\n",
              "      <th></th>\n",
              "      <th></th>\n",
              "    </tr>\n",
              "  </thead>\n",
              "  <tbody>\n",
              "    <tr>\n",
              "      <th>female</th>\n",
              "      <td>0.26</td>\n",
              "      <td>0.74</td>\n",
              "    </tr>\n",
              "    <tr>\n",
              "      <th>male</th>\n",
              "      <td>0.81</td>\n",
              "      <td>0.19</td>\n",
              "    </tr>\n",
              "  </tbody>\n",
              "</table>\n",
              "</div>"
            ],
            "text/plain": [
              "survived     0     1\n",
              "sex                 \n",
              "female    0.26  0.74\n",
              "male      0.81  0.19"
            ]
          },
          "execution_count": 80,
          "metadata": {},
          "output_type": "execute_result"
        }
      ],
      "source": [
        "df.groupby('sex')['survived'].value_counts(normalize = True ).unstack().round(2)"
      ]
    },
    {
      "cell_type": "code",
      "execution_count": null,
      "id": "1bf8d0ce",
      "metadata": {
        "id": "1bf8d0ce",
        "outputId": "edd01899-f627-4838-f8fc-31293687191e"
      },
      "outputs": [
        {
          "data": {
            "text/html": [
              "<div>\n",
              "<style scoped>\n",
              "    .dataframe tbody tr th:only-of-type {\n",
              "        vertical-align: middle;\n",
              "    }\n",
              "\n",
              "    .dataframe tbody tr th {\n",
              "        vertical-align: top;\n",
              "    }\n",
              "\n",
              "    .dataframe thead th {\n",
              "        text-align: right;\n",
              "    }\n",
              "</style>\n",
              "<table border=\"1\" class=\"dataframe\">\n",
              "  <thead>\n",
              "    <tr style=\"text-align: right;\">\n",
              "      <th>survived</th>\n",
              "      <th>0</th>\n",
              "      <th>1</th>\n",
              "    </tr>\n",
              "    <tr>\n",
              "      <th>pclass</th>\n",
              "      <th></th>\n",
              "      <th></th>\n",
              "    </tr>\n",
              "  </thead>\n",
              "  <tbody>\n",
              "    <tr>\n",
              "      <th>1</th>\n",
              "      <td>80</td>\n",
              "      <td>136</td>\n",
              "    </tr>\n",
              "    <tr>\n",
              "      <th>2</th>\n",
              "      <td>97</td>\n",
              "      <td>87</td>\n",
              "    </tr>\n",
              "    <tr>\n",
              "      <th>3</th>\n",
              "      <td>372</td>\n",
              "      <td>119</td>\n",
              "    </tr>\n",
              "  </tbody>\n",
              "</table>\n",
              "</div>"
            ],
            "text/plain": [
              "survived    0    1\n",
              "pclass            \n",
              "1          80  136\n",
              "2          97   87\n",
              "3         372  119"
            ]
          },
          "execution_count": 82,
          "metadata": {},
          "output_type": "execute_result"
        }
      ],
      "source": [
        "# ii.  each passenger class\n",
        "\n",
        "df.groupby('pclass')['survived'].value_counts().unstack()"
      ]
    },
    {
      "cell_type": "code",
      "execution_count": null,
      "id": "5ce0392a",
      "metadata": {
        "id": "5ce0392a"
      },
      "outputs": [],
      "source": [
        "df.groupby('pclass')['survived'].value_counts(normalize = True ).unstack().round(2)"
      ]
    },
    {
      "cell_type": "code",
      "execution_count": null,
      "id": "f10b7f2c",
      "metadata": {
        "id": "f10b7f2c",
        "outputId": "54e02fb0-9154-4fcc-d02c-5e3e37efd2c5"
      },
      "outputs": [
        {
          "data": {
            "text/html": [
              "<div>\n",
              "<style scoped>\n",
              "    .dataframe tbody tr th:only-of-type {\n",
              "        vertical-align: middle;\n",
              "    }\n",
              "\n",
              "    .dataframe tbody tr th {\n",
              "        vertical-align: top;\n",
              "    }\n",
              "\n",
              "    .dataframe thead th {\n",
              "        text-align: right;\n",
              "    }\n",
              "</style>\n",
              "<table border=\"1\" class=\"dataframe\">\n",
              "  <thead>\n",
              "    <tr style=\"text-align: right;\">\n",
              "      <th>survived</th>\n",
              "      <th>0</th>\n",
              "      <th>1</th>\n",
              "    </tr>\n",
              "    <tr>\n",
              "      <th>embark_town</th>\n",
              "      <th></th>\n",
              "      <th></th>\n",
              "    </tr>\n",
              "  </thead>\n",
              "  <tbody>\n",
              "    <tr>\n",
              "      <th>Cherbourg</th>\n",
              "      <td>75</td>\n",
              "      <td>93</td>\n",
              "    </tr>\n",
              "    <tr>\n",
              "      <th>Queenstown</th>\n",
              "      <td>47</td>\n",
              "      <td>30</td>\n",
              "    </tr>\n",
              "    <tr>\n",
              "      <th>Southampton</th>\n",
              "      <td>427</td>\n",
              "      <td>217</td>\n",
              "    </tr>\n",
              "  </tbody>\n",
              "</table>\n",
              "</div>"
            ],
            "text/plain": [
              "survived       0    1\n",
              "embark_town          \n",
              "Cherbourg     75   93\n",
              "Queenstown    47   30\n",
              "Southampton  427  217"
            ]
          },
          "execution_count": 88,
          "metadata": {},
          "output_type": "execute_result"
        }
      ],
      "source": [
        "# iii. embark_town\n",
        "\n",
        "df.groupby('embark_town')['survived'].value_counts().unstack()"
      ]
    },
    {
      "cell_type": "code",
      "execution_count": null,
      "id": "16ec2007",
      "metadata": {
        "id": "16ec2007",
        "outputId": "22e2e437-a456-4c2c-dcc0-79eb638699ce"
      },
      "outputs": [
        {
          "data": {
            "text/html": [
              "<div>\n",
              "<style scoped>\n",
              "    .dataframe tbody tr th:only-of-type {\n",
              "        vertical-align: middle;\n",
              "    }\n",
              "\n",
              "    .dataframe tbody tr th {\n",
              "        vertical-align: top;\n",
              "    }\n",
              "\n",
              "    .dataframe thead th {\n",
              "        text-align: right;\n",
              "    }\n",
              "</style>\n",
              "<table border=\"1\" class=\"dataframe\">\n",
              "  <thead>\n",
              "    <tr style=\"text-align: right;\">\n",
              "      <th>survived</th>\n",
              "      <th>0</th>\n",
              "      <th>1</th>\n",
              "    </tr>\n",
              "    <tr>\n",
              "      <th>embark_town</th>\n",
              "      <th></th>\n",
              "      <th></th>\n",
              "    </tr>\n",
              "  </thead>\n",
              "  <tbody>\n",
              "    <tr>\n",
              "      <th>Cherbourg</th>\n",
              "      <td>44.64</td>\n",
              "      <td>55.36</td>\n",
              "    </tr>\n",
              "    <tr>\n",
              "      <th>Queenstown</th>\n",
              "      <td>61.04</td>\n",
              "      <td>38.96</td>\n",
              "    </tr>\n",
              "    <tr>\n",
              "      <th>Southampton</th>\n",
              "      <td>66.30</td>\n",
              "      <td>33.70</td>\n",
              "    </tr>\n",
              "  </tbody>\n",
              "</table>\n",
              "</div>"
            ],
            "text/plain": [
              "survived         0      1\n",
              "embark_town              \n",
              "Cherbourg    44.64  55.36\n",
              "Queenstown   61.04  38.96\n",
              "Southampton  66.30  33.70"
            ]
          },
          "execution_count": 91,
          "metadata": {},
          "output_type": "execute_result"
        }
      ],
      "source": [
        "df.groupby('embark_town')['survived'].value_counts(normalize = True ).unstack().round(4) * 100"
      ]
    },
    {
      "cell_type": "code",
      "execution_count": null,
      "id": "410b6ebc",
      "metadata": {
        "id": "410b6ebc",
        "outputId": "f1c1c3ab-ea62-4088-d1c1-501e699aeb44"
      },
      "outputs": [
        {
          "data": {
            "text/html": [
              "<div>\n",
              "<style scoped>\n",
              "    .dataframe tbody tr th:only-of-type {\n",
              "        vertical-align: middle;\n",
              "    }\n",
              "\n",
              "    .dataframe tbody tr th {\n",
              "        vertical-align: top;\n",
              "    }\n",
              "\n",
              "    .dataframe thead th {\n",
              "        text-align: right;\n",
              "    }\n",
              "</style>\n",
              "<table border=\"1\" class=\"dataframe\">\n",
              "  <thead>\n",
              "    <tr style=\"text-align: right;\">\n",
              "      <th>survived</th>\n",
              "      <th>0</th>\n",
              "      <th>1</th>\n",
              "    </tr>\n",
              "    <tr>\n",
              "      <th>alone</th>\n",
              "      <th></th>\n",
              "      <th></th>\n",
              "    </tr>\n",
              "  </thead>\n",
              "  <tbody>\n",
              "    <tr>\n",
              "      <th>False</th>\n",
              "      <td>175</td>\n",
              "      <td>179</td>\n",
              "    </tr>\n",
              "    <tr>\n",
              "      <th>True</th>\n",
              "      <td>374</td>\n",
              "      <td>163</td>\n",
              "    </tr>\n",
              "  </tbody>\n",
              "</table>\n",
              "</div>"
            ],
            "text/plain": [
              "survived    0    1\n",
              "alone             \n",
              "False     175  179\n",
              "True      374  163"
            ]
          },
          "execution_count": 96,
          "metadata": {},
          "output_type": "execute_result"
        }
      ],
      "source": [
        "# iv.  family members\n",
        "\n",
        "df.groupby('alone')['survived'].value_counts().unstack()"
      ]
    },
    {
      "cell_type": "code",
      "execution_count": null,
      "id": "6ce9fa8b",
      "metadata": {
        "id": "6ce9fa8b"
      },
      "outputs": [],
      "source": [
        "# 3. Multi Variate Analysis"
      ]
    },
    {
      "cell_type": "code",
      "execution_count": null,
      "id": "005a8ff4",
      "metadata": {
        "id": "005a8ff4"
      },
      "outputs": [],
      "source": [
        "# Find Survival Status of\n",
        "\n",
        "# 1. Each Sex travelling wrt passenger class."
      ]
    },
    {
      "cell_type": "code",
      "execution_count": null,
      "id": "0bdae1c2",
      "metadata": {
        "id": "0bdae1c2",
        "outputId": "45e5245b-361c-4aa6-e662-40c05f920914"
      },
      "outputs": [
        {
          "data": {
            "text/html": [
              "<div>\n",
              "<style scoped>\n",
              "    .dataframe tbody tr th:only-of-type {\n",
              "        vertical-align: middle;\n",
              "    }\n",
              "\n",
              "    .dataframe tbody tr th {\n",
              "        vertical-align: top;\n",
              "    }\n",
              "\n",
              "    .dataframe thead th {\n",
              "        text-align: right;\n",
              "    }\n",
              "</style>\n",
              "<table border=\"1\" class=\"dataframe\">\n",
              "  <thead>\n",
              "    <tr style=\"text-align: right;\">\n",
              "      <th></th>\n",
              "      <th>survived</th>\n",
              "      <th>0</th>\n",
              "      <th>1</th>\n",
              "    </tr>\n",
              "    <tr>\n",
              "      <th>pclass</th>\n",
              "      <th>sex</th>\n",
              "      <th></th>\n",
              "      <th></th>\n",
              "    </tr>\n",
              "  </thead>\n",
              "  <tbody>\n",
              "    <tr>\n",
              "      <th rowspan=\"2\" valign=\"top\">1</th>\n",
              "      <th>female</th>\n",
              "      <td>3</td>\n",
              "      <td>91</td>\n",
              "    </tr>\n",
              "    <tr>\n",
              "      <th>male</th>\n",
              "      <td>77</td>\n",
              "      <td>45</td>\n",
              "    </tr>\n",
              "    <tr>\n",
              "      <th rowspan=\"2\" valign=\"top\">2</th>\n",
              "      <th>female</th>\n",
              "      <td>6</td>\n",
              "      <td>70</td>\n",
              "    </tr>\n",
              "    <tr>\n",
              "      <th>male</th>\n",
              "      <td>91</td>\n",
              "      <td>17</td>\n",
              "    </tr>\n",
              "    <tr>\n",
              "      <th rowspan=\"2\" valign=\"top\">3</th>\n",
              "      <th>female</th>\n",
              "      <td>72</td>\n",
              "      <td>72</td>\n",
              "    </tr>\n",
              "    <tr>\n",
              "      <th>male</th>\n",
              "      <td>300</td>\n",
              "      <td>47</td>\n",
              "    </tr>\n",
              "  </tbody>\n",
              "</table>\n",
              "</div>"
            ],
            "text/plain": [
              "survived         0   1\n",
              "pclass sex            \n",
              "1      female    3  91\n",
              "       male     77  45\n",
              "2      female    6  70\n",
              "       male     91  17\n",
              "3      female   72  72\n",
              "       male    300  47"
            ]
          },
          "execution_count": 101,
          "metadata": {},
          "output_type": "execute_result"
        }
      ],
      "source": [
        "# 1. Each Sex travelling wrt passenger class.\n",
        "\n",
        "df.groupby(['pclass', 'sex'])['survived'].value_counts().unstack()"
      ]
    }
  ],
  "metadata": {
    "kernelspec": {
      "display_name": "Python 3 (ipykernel)",
      "language": "python",
      "name": "python3"
    },
    "language_info": {
      "codemirror_mode": {
        "name": "ipython",
        "version": 3
      },
      "file_extension": ".py",
      "mimetype": "text/x-python",
      "name": "python",
      "nbconvert_exporter": "python",
      "pygments_lexer": "ipython3",
      "version": "3.11.4"
    },
    "colab": {
      "provenance": []
    }
  },
  "nbformat": 4,
  "nbformat_minor": 5
}